{
 "cells": [
  {
   "cell_type": "code",
   "execution_count": 1,
   "metadata": {},
   "outputs": [],
   "source": [
    "# pip install psycopg2 если библиотека не установлена\n",
    "import psycopg2"
   ]
  },
  {
   "cell_type": "code",
   "execution_count": 2,
   "metadata": {},
   "outputs": [],
   "source": [
    "database=\"startml\",\n",
    "user=\"robot-startml-ro\",\n",
    "password=\"pheiph0hahj1Vaif\",\n",
    "host=\"postgres.lab.karpov.courses\",\n",
    "port=6432"
   ]
  },
  {
   "cell_type": "code",
   "execution_count": 3,
   "metadata": {},
   "outputs": [
    {
     "ename": "ImportError",
     "evalue": "Using URI string without sqlalchemy installed.",
     "output_type": "error",
     "traceback": [
      "\u001b[1;31m---------------------------------------------------------------------------\u001b[0m",
      "\u001b[1;31mImportError\u001b[0m                               Traceback (most recent call last)",
      "\u001b[1;32mc:\\Users\\e.tarasov\\Personal\\KC\\startml\\lesson_6\\main.ipynb Cell 3\u001b[0m line \u001b[0;36m<cell line: 3>\u001b[1;34m()\u001b[0m\n\u001b[0;32m      <a href='vscode-notebook-cell:/c%3A/Users/e.tarasov/Personal/KC/startml/lesson_6/main.ipynb#W3sZmlsZQ%3D%3D?line=0'>1</a>\u001b[0m \u001b[39mimport\u001b[39;00m \u001b[39mpandas\u001b[39;00m \u001b[39mas\u001b[39;00m \u001b[39mpd\u001b[39;00m\n\u001b[1;32m----> <a href='vscode-notebook-cell:/c%3A/Users/e.tarasov/Personal/KC/startml/lesson_6/main.ipynb#W3sZmlsZQ%3D%3D?line=2'>3</a>\u001b[0m df \u001b[39m=\u001b[39m pd\u001b[39m.\u001b[39;49mread_sql(\n\u001b[0;32m      <a href='vscode-notebook-cell:/c%3A/Users/e.tarasov/Personal/KC/startml/lesson_6/main.ipynb#W3sZmlsZQ%3D%3D?line=3'>4</a>\u001b[0m \u001b[39m    \u001b[39;49m\u001b[39m\"\"\"SELECT * FROM \"feed_action\" LIMIT 10 \"\"\"\u001b[39;49;00m,\n\u001b[0;32m      <a href='vscode-notebook-cell:/c%3A/Users/e.tarasov/Personal/KC/startml/lesson_6/main.ipynb#W3sZmlsZQ%3D%3D?line=4'>5</a>\u001b[0m     con\u001b[39m=\u001b[39;49m\u001b[39m\"\u001b[39;49m\u001b[39mpostgresql://robot-startml-ro:pheiph0hahj1Vaif@\u001b[39;49m\u001b[39m\"\u001b[39;49m\n\u001b[0;32m      <a href='vscode-notebook-cell:/c%3A/Users/e.tarasov/Personal/KC/startml/lesson_6/main.ipynb#W3sZmlsZQ%3D%3D?line=5'>6</a>\u001b[0m         \u001b[39m\"\u001b[39;49m\u001b[39mpostgres.lab.karpov.courses:6432/startml\u001b[39;49m\u001b[39m\"\u001b[39;49m\n\u001b[0;32m      <a href='vscode-notebook-cell:/c%3A/Users/e.tarasov/Personal/KC/startml/lesson_6/main.ipynb#W3sZmlsZQ%3D%3D?line=6'>7</a>\u001b[0m )\n\u001b[0;32m      <a href='vscode-notebook-cell:/c%3A/Users/e.tarasov/Personal/KC/startml/lesson_6/main.ipynb#W3sZmlsZQ%3D%3D?line=8'>9</a>\u001b[0m df\u001b[39m.\u001b[39mhead()\n",
      "File \u001b[1;32mc:\\ProgramData\\anaconda3\\envs\\analytic\\lib\\site-packages\\pandas\\io\\sql.py:561\u001b[0m, in \u001b[0;36mread_sql\u001b[1;34m(sql, con, index_col, coerce_float, params, parse_dates, columns, chunksize)\u001b[0m\n\u001b[0;32m    436\u001b[0m \u001b[39mdef\u001b[39;00m \u001b[39mread_sql\u001b[39m(\n\u001b[0;32m    437\u001b[0m     sql,\n\u001b[0;32m    438\u001b[0m     con,\n\u001b[1;32m   (...)\u001b[0m\n\u001b[0;32m    444\u001b[0m     chunksize: \u001b[39mint\u001b[39m \u001b[39m|\u001b[39m \u001b[39mNone\u001b[39;00m \u001b[39m=\u001b[39m \u001b[39mNone\u001b[39;00m,\n\u001b[0;32m    445\u001b[0m ) \u001b[39m-\u001b[39m\u001b[39m>\u001b[39m DataFrame \u001b[39m|\u001b[39m Iterator[DataFrame]:\n\u001b[0;32m    446\u001b[0m \u001b[39m    \u001b[39m\u001b[39m\"\"\"\u001b[39;00m\n\u001b[0;32m    447\u001b[0m \u001b[39m    Read SQL query or database table into a DataFrame.\u001b[39;00m\n\u001b[0;32m    448\u001b[0m \n\u001b[1;32m   (...)\u001b[0m\n\u001b[0;32m    559\u001b[0m \u001b[39m    1           1  2010-11-12\u001b[39;00m\n\u001b[0;32m    560\u001b[0m \u001b[39m    \"\"\"\u001b[39;00m\n\u001b[1;32m--> 561\u001b[0m     pandas_sql \u001b[39m=\u001b[39m pandasSQL_builder(con)\n\u001b[0;32m    563\u001b[0m     \u001b[39mif\u001b[39;00m \u001b[39misinstance\u001b[39m(pandas_sql, SQLiteDatabase):\n\u001b[0;32m    564\u001b[0m         \u001b[39mreturn\u001b[39;00m pandas_sql\u001b[39m.\u001b[39mread_query(\n\u001b[0;32m    565\u001b[0m             sql,\n\u001b[0;32m    566\u001b[0m             index_col\u001b[39m=\u001b[39mindex_col,\n\u001b[1;32m   (...)\u001b[0m\n\u001b[0;32m    570\u001b[0m             chunksize\u001b[39m=\u001b[39mchunksize,\n\u001b[0;32m    571\u001b[0m         )\n",
      "File \u001b[1;32mc:\\ProgramData\\anaconda3\\envs\\analytic\\lib\\site-packages\\pandas\\io\\sql.py:752\u001b[0m, in \u001b[0;36mpandasSQL_builder\u001b[1;34m(con, schema)\u001b[0m\n\u001b[0;32m    750\u001b[0m \u001b[39mif\u001b[39;00m \u001b[39misinstance\u001b[39m(con, \u001b[39mstr\u001b[39m):\n\u001b[0;32m    751\u001b[0m     \u001b[39mif\u001b[39;00m sqlalchemy \u001b[39mis\u001b[39;00m \u001b[39mNone\u001b[39;00m:\n\u001b[1;32m--> 752\u001b[0m         \u001b[39mraise\u001b[39;00m \u001b[39mImportError\u001b[39;00m(\u001b[39m\"\u001b[39m\u001b[39mUsing URI string without sqlalchemy installed.\u001b[39m\u001b[39m\"\u001b[39m)\n\u001b[0;32m    753\u001b[0m     \u001b[39melse\u001b[39;00m:\n\u001b[0;32m    754\u001b[0m         con \u001b[39m=\u001b[39m sqlalchemy\u001b[39m.\u001b[39mcreate_engine(con)\n",
      "\u001b[1;31mImportError\u001b[0m: Using URI string without sqlalchemy installed."
     ]
    }
   ],
   "source": [
    "import pandas as pd\n",
    "\n",
    "df = pd.read_sql(\n",
    "    \"\"\"SELECT * FROM \"feed_action\" LIMIT 10 \"\"\",\n",
    "    con=\"postgresql://robot-startml-ro:pheiph0hahj1Vaif@\"\n",
    "        \"postgres.lab.karpov.courses:6432/startml\"\n",
    ")\n",
    "\n",
    "df.head()"
   ]
  },
  {
   "cell_type": "markdown",
   "metadata": {},
   "source": [
    "# Из курса матана для DS"
   ]
  },
  {
   "cell_type": "code",
   "execution_count": 19,
   "metadata": {},
   "outputs": [
    {
     "data": {
      "text/plain": [
       "(array([-3.02069926,  1.66527771,  7.35542155]),\n",
       " array([[ 0.77532334,  0.1440438 , -0.61491877],\n",
       "        [-0.2934401 , -0.78000906, -0.55270134],\n",
       "        [-0.55925542,  0.60896408, -0.562491  ]]),\n",
       " array([[1., 3., 4.],\n",
       "        [3., 3., 1.],\n",
       "        [4., 1., 2.]]))"
      ]
     },
     "execution_count": 19,
     "metadata": {},
     "output_type": "execute_result"
    }
   ],
   "source": [
    "# спектральное разложение\n",
    "import numpy as np\n",
    "\n",
    "A = np.array([\n",
    "    [1,3,4],\n",
    "    [3,3,1],\n",
    "    [4,1,2]\n",
    "])\n",
    "\n",
    "values, vectors = np.linalg.eigh(A)\n",
    "# перевод собственных значений в диагональную матрицу\n",
    "# спектральное разложение => A = V * L * V**-1\n",
    "values_m = np.diag(values)\n",
    "\n",
    "new_A = np.dot(vectors, np.dot(values_m, np.linalg.inv(vectors)))\n",
    "\n",
    "values, vectors, new_A"
   ]
  },
  {
   "cell_type": "code",
   "execution_count": 27,
   "metadata": {},
   "outputs": [
    {
     "data": {
      "text/plain": [
       "array([[ 6.67070123,  2.5849791 ,  4.77698944],\n",
       "       [-1.80194323,  2.42462609,  3.29760351],\n",
       "       [ 4.27255727,  1.19961301, 10.55017455]])"
      ]
     },
     "execution_count": 27,
     "metadata": {},
     "output_type": "execute_result"
    }
   ],
   "source": [
    "# сингулярное разложение\n",
    "B = np.array([\n",
    "    [1,3,8],\n",
    "    [4,2,0],\n",
    "    [7,1,9]\n",
    "])\n",
    "\n",
    "B_BT = B.dot(B.T)\n",
    "BT_B = np.dot(B.T, B)\n",
    "\n",
    "sigma, U = np.linalg.eigh(B_BT)\n",
    "_, V = np.linalg.eigh(BT_B)\n",
    "\n",
    "sigma_sqrt = np.diag(np.sqrt(sigma))\n",
    "\n",
    "new_B = np.dot(U, np.dot(sigma_sqrt, V.T))\n",
    "new_B"
   ]
  },
  {
   "cell_type": "code",
   "execution_count": null,
   "metadata": {},
   "outputs": [],
   "source": []
  }
 ],
 "metadata": {
  "kernelspec": {
   "display_name": "analytic",
   "language": "python",
   "name": "python3"
  },
  "language_info": {
   "codemirror_mode": {
    "name": "ipython",
    "version": 3
   },
   "file_extension": ".py",
   "mimetype": "text/x-python",
   "name": "python",
   "nbconvert_exporter": "python",
   "pygments_lexer": "ipython3",
   "version": "3.8.18"
  }
 },
 "nbformat": 4,
 "nbformat_minor": 2
}
