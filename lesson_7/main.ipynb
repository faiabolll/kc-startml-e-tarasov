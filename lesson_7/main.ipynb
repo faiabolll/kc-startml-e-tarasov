{
 "cells": [
  {
   "cell_type": "code",
   "execution_count": null,
   "metadata": {},
   "outputs": [],
   "source": [
    "class Triangle():\n",
    "    n_dots=3\n",
    "    def __init__(self,a,b,c):\n",
    "        self._triangle_inequality(a,b,c)\n",
    "        self.a = a\n",
    "        self.b = b\n",
    "        self.c = c\n",
    "\n",
    "    def _triangle_inequality(self,a,b,c):\n",
    "        sides = [a,b,c]\n",
    "        for i, _ in enumerate(sides):\n",
    "            sides_copy = sides.copy()\n",
    "            test_side = sides_copy.pop(i)\n",
    "            if test_side >= sum(sides_copy):\n",
    "                raise ValueError('triangle inequality does not hold')\n",
    "\n",
    "    def area(self):\n",
    "        p = (a + b+ c) / 2\n",
    "        S = (p * (p - a) * (p - b) * (p - c))**0.5\n",
    "        return S\n",
    "\n",
    "class Rectangle(Triangle):\n",
    "    n_dots = 4\n",
    "\n",
    "    def __init__(self, a,b):\n",
    "        self.a = a\n",
    "        self.b = b\n",
    "\n",
    "    def area(self):\n",
    "        return self.a * self.b\n",
    "\n",
    "tr_1 = Triangle(3,4,5)\n",
    "tr_2 = Triangle(1,2,2.9)\n",
    "\n",
    "square_1 = tr_1.area()\n",
    "square_2 = tr_2.area()"
   ]
  },
  {
   "cell_type": "code",
   "execution_count": 2,
   "metadata": {},
   "outputs": [],
   "source": [
    "class BaseFigure():\n",
    "    n_dots = None\n",
    "\n",
    "    def __init__(self):\n",
    "        self.validate()\n",
    "\n",
    "    def area(self):\n",
    "        raise NotImplementedError(\"Method area is not implemented\")\n",
    "\n",
    "    def validate(self):\n",
    "        raise NotImplementedError(\"Method validate is not implemented\")"
   ]
  },
  {
   "cell_type": "code",
   "execution_count": 6,
   "metadata": {},
   "outputs": [],
   "source": [
    "class BaseFigure():\n",
    "    n_dots = None\n",
    "\n",
    "    def __init__(self):\n",
    "        self.validate()\n",
    "\n",
    "    def area(self):\n",
    "        raise NotImplementedError(\"Method area is not implemented\")\n",
    "\n",
    "    def validate(self):\n",
    "        raise NotImplementedError(\"Method validate is not implemented\")\n",
    "\n",
    "class Triangle(BaseFigure):\n",
    "    n_dots=3\n",
    "    def __init__(self,a,b,c):\n",
    "        self.a = a\n",
    "        self.b = b\n",
    "        self.c = c\n",
    "        super().__init__()\n",
    "\n",
    "    def validate(self):\n",
    "        sides = [self.a,self.b,self.c]\n",
    "        for i, _ in enumerate(sides):\n",
    "            sides_copy = sides.copy()\n",
    "            test_side = sides_copy.pop(i)\n",
    "            if test_side >= sum(sides_copy):\n",
    "                raise ValueError('triangle inequality does not hold')\n",
    "            else:\n",
    "                return (self.a, self.b, self.c)\n",
    "\n",
    "    def area(self):\n",
    "        p = (self.a + self.b + self.c) / 2\n",
    "        S = (p * (p - self.a) * (p - self.b) * (p - self.c))**0.5\n",
    "        return S\n",
    "\n",
    "class Rectangle(BaseFigure):\n",
    "    n_dots = 4\n",
    "\n",
    "    def __init__(self, a,b):\n",
    "        self.a = a\n",
    "        self.b = b\n",
    "        super().__init__()\n",
    "\n",
    "    def validate(self):\n",
    "        return (self.a, self.b)\n",
    "\n",
    "    def area(self):\n",
    "        return self.a * self.b\n",
    "\n",
    "tr_1 = Triangle(1,2,4)\n",
    "tr_2 = Triangle(1,2,2.9)\n",
    "\n",
    "square_1 = tr_1.area()\n",
    "square_2 = tr_2.area()"
   ]
  },
  {
   "cell_type": "code",
   "execution_count": 8,
   "metadata": {},
   "outputs": [
    {
     "data": {
      "text/plain": [
       "(1, 2, 4)"
      ]
     },
     "execution_count": 8,
     "metadata": {},
     "output_type": "execute_result"
    }
   ],
   "source": [
    "tr_1.validate()"
   ]
  },
  {
   "cell_type": "code",
   "execution_count": null,
   "metadata": {},
   "outputs": [],
   "source": []
  }
 ],
 "metadata": {
  "kernelspec": {
   "display_name": "kc_ml",
   "language": "python",
   "name": "python3"
  },
  "language_info": {
   "codemirror_mode": {
    "name": "ipython",
    "version": 3
   },
   "file_extension": ".py",
   "mimetype": "text/x-python",
   "name": "python",
   "nbconvert_exporter": "python",
   "pygments_lexer": "ipython3",
   "version": "3.8.18"
  }
 },
 "nbformat": 4,
 "nbformat_minor": 2
}
