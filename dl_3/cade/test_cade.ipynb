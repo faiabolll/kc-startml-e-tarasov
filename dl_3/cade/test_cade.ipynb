{
 "cells": [
  {
   "cell_type": "code",
   "execution_count": 99,
   "metadata": {},
   "outputs": [],
   "source": [
    "import numpy as np\n",
    "\n",
    "\n",
    "class CADEOutliers():\n",
    "    \"\"\"Class for outliers detection with CADE (Classifier Adjusted Density Estimation)\"\"\"\n",
    "    \n",
    "    _supported_A_dist = [\"uniform\"]\n",
    "    \n",
    "    def __init__(self, classifier, A_dist, A_size):\n",
    "        \"\"\"Create CADE outlier detection object.\n",
    "        \n",
    "        Parameters\n",
    "        ----------\n",
    "        classifier : model\n",
    "            sklearn classifier model supporting fit and predict_proba methods.\n",
    "        \n",
    "        A_dist : string\n",
    "            Distribution for generating artificial anomalies.\n",
    "        \n",
    "        A_size : float | int\n",
    "            If float, then the number of artifical anomalies is |X| * A_size, where X - analyzed data. \n",
    "            If int, then the number of artifical anomalies is just A_size.\n",
    "        \"\"\"\n",
    "        # Set classifier\n",
    "        self.classifier = classifier\n",
    "        \n",
    "        # Set the distribution kind\n",
    "        if A_dist not in self._supported_A_dist:\n",
    "            raise ValueError(f\"{A_dist} distribution is not supported yet for generating artifical anomalies. Choose from the following list: {self._supported_A_dist}\")\n",
    "        self.A_dist = A_dist\n",
    "        \n",
    "        # Set the number of artifical anomalies to generate\n",
    "        if isinstance(A_size, int) and A_size >= 1:\n",
    "            self.sample_size = A_size\n",
    "        elif isinstance(A_size, float) and A_size >= 0:\n",
    "            self.sample_size = None\n",
    "        else:\n",
    "            raise ValueError(\"A_size must be either int[1, inf) of float[0, inf)\")\n",
    "        self.A_size = A_size\n",
    "        \n",
    "    def _generate_A(self, dist, attrs):\n",
    "        \"\"\"Generate artifical anomalies.\n",
    "        \n",
    "        Parameters\n",
    "        ----------\n",
    "        dist : string\n",
    "            Distribution for generating artificial anomalies.\n",
    "        attrs : dict\n",
    "            Key-value arguments for generating artifical anomalies. \n",
    "            If dist is \"uniform\", attrs = {'low': array, 'high': array, 'size': (sample_size, n_dim)} with min and high thresholds for each dimension.\n",
    "        \"\"\"\n",
    "        if dist == 'uniform':\n",
    "            generator = np.random.uniform\n",
    "        else:\n",
    "            raise ValueError(f\"{dist} distribution is not supported yet for generating artifical anomalies. Choose from the following list: {self._supported_A_dist}\")\n",
    "        \n",
    "        A = generator(**attrs)\n",
    "        \n",
    "        return A\n",
    "    \n",
    "    def fit(self, X):\n",
    "        \"\"\"Fit the distribution of X.\n",
    "        \n",
    "        Parameters\n",
    "        ----------\n",
    "        X : np.ndarray\n",
    "            Array with samples\n",
    "        \"\"\"\n",
    "        if self.sample_size is None:\n",
    "            sample_size = int(len(X) * self.A_size) + 1\n",
    "        else:\n",
    "            sample_size = int(self.sample_size)\n",
    "        \n",
    "        if self.A_dist == 'uniform':\n",
    "            n_dim = X.shape[1]\n",
    "            attrs = {\n",
    "                'low': X.min(axis=0),\n",
    "                'high': X.max(axis=0),\n",
    "                'size': (sample_size, n_dim)\n",
    "            }\n",
    "            # calculate uniform probability density\n",
    "            P_A = 1\n",
    "            for s in X.max(axis=0) - X.min(axis=0):\n",
    "                if s == 0:\n",
    "                    s = 1\n",
    "                P_A /= s\n",
    "            self.P_A = lambda x: np.array([P_A] * x.shape[0])\n",
    "        else:\n",
    "            attrs = None\n",
    "            \n",
    "        A = self._generate_A(self.A_dist, attrs)\n",
    "        \n",
    "        combined_data = np.vstack([X, A])\n",
    "        target = np.hstack([np.zeros(X.shape[0]), np.ones(A.shape[0])])\n",
    "        \n",
    "        self.classifier.fit(combined_data, target)\n",
    "        self.A_X_ratio = A.shape[0] / X.shape[0]\n",
    "        \n",
    "        \n",
    "    def get_ranking(self, X):\n",
    "        \"\"\"Return rankings for each sample in X.\n",
    "        Higher values indicate higher certainty that the point is an outlier.\n",
    "        \n",
    "        Parameters\n",
    "        ----------\n",
    "        X : np.ndarray\n",
    "            Array with samples\n",
    "        \"\"\"\n",
    "        predictions = self.classifier.predict_proba(X)[:, 0]\n",
    "        \n",
    "        anomaly_score = self.P_A(X) * self.A_X_ratio * (predictions / (1 - predictions + 1e-5))\n",
    "        \n",
    "        return anomaly_score"
   ]
  },
  {
   "cell_type": "code",
   "execution_count": 120,
   "metadata": {},
   "outputs": [],
   "source": [
    "import pandas as pd\n",
    "from sklearn.linear_model import LogisticRegression\n",
    "from sklearn.ensemble import RandomForestClassifier\n",
    "from sklearn.pipeline import Pipeline\n",
    "from sklearn.preprocessing import StandardScaler\n",
    "\n",
    "pipe = Pipeline([\n",
    "\t('scaler', StandardScaler()),\n",
    "\t('classifier', LogisticRegression())\n",
    "])\n",
    "\n",
    "df_orig = pd.read_csv('data.csv', sep=';').set_index('date')\n",
    "df= df_orig.copy()\n",
    "for num_col in range(0,9):\n",
    "\tdf[[df.columns[num_col]]] = StandardScaler().fit_transform(df[[df.columns[num_col]]])\n",
    "\n",
    "\n",
    "cade = CADEOutliers(RandomForestClassifier(), 'uniform', df.shape[0])"
   ]
  },
  {
   "cell_type": "code",
   "execution_count": 121,
   "metadata": {},
   "outputs": [],
   "source": [
    "cade.fit(df)"
   ]
  },
  {
   "cell_type": "code",
   "execution_count": 122,
   "metadata": {},
   "outputs": [
    {
     "name": "stderr",
     "output_type": "stream",
     "text": [
      "c:\\Users\\egort\\anaconda3\\envs\\kc_ml\\Lib\\site-packages\\sklearn\\base.py:486: UserWarning: X has feature names, but RandomForestClassifier was fitted without feature names\n",
      "  warnings.warn(\n"
     ]
    }
   ],
   "source": [
    "df_orig['rankings'] = cade.get_ranking(df)"
   ]
  },
  {
   "cell_type": "code",
   "execution_count": 139,
   "metadata": {},
   "outputs": [
    {
     "data": {
      "image/png": "[encoded data removed]",
      "text/plain": [
       "<Figure size 1600x400 with 2 Axes>"
      ]
     },
     "metadata": {},
     "output_type": "display_data"
    }
   ],
   "source": [
    "import matplotlib.pyplot as plt\n",
    "import numpy as np\n",
    "import plotly\n",
    "\n",
    "columns = ['cnt', 'in_rev', 'out_rev', 'sessions', 'users', 'rankings']\n",
    "\n",
    "fig, ax1 = plt.subplots(figsize=(16, 4))\n",
    "ax2 = ax1.twinx()\n",
    "ax1.tick_params(labelrotation=90)\n",
    "ax2.tick_params(labelrotation=90)\n",
    "\n",
    "for column in columns:\n",
    "\tif column == 'rankings':\n",
    "\t\tax1.bar(x=df_orig.index, height=df_orig[column], width=0.2)\n",
    "\telse:\n",
    "\t\tax2.plot(np.log(df_orig[column]))"
   ]
  },
  {
   "cell_type": "code",
   "execution_count": 161,
   "metadata": {},
   "outputs": [
    {
     "name": "stderr",
     "output_type": "stream",
     "text": [
      "c:\\Users\\egort\\anaconda3\\envs\\kc_ml\\Lib\\site-packages\\pandas\\core\\arraylike.py:399: RuntimeWarning:\n",
      "\n",
      "divide by zero encountered in log\n",
      "\n"
     ]
    },
    {
     "data": {
      "application/vnd.plotly.v1+json": {
       "config": {
        "plotlyServerURL": "https://plot.ly"
       },
       "data": [
        {
         "alignmentgroup": "True",
         "hovertemplate": "variable=rankings<br>date=%{x}<br>value=%{y}<extra></extra>",
         "legendgroup": "rankings",
         "marker": {
          "color": "#636efa",
          "pattern": {
           "shape": ""
          }
         },
         "name": "rankings",
         "offsetgroup": "rankings",
         "orientation": "v",
         "showlegend": true,
         "textposition": "auto",
         "type": "bar",
         "width": 0.2,
         "x": [
          "16.05.2024",
          "15.05.2024",
          "14.05.2024",
          "13.05.2024",
          "12.05.2024",
          "11.05.2024",
          "10.05.2024",
          "09.05.2024",
          "08.05.2024",
          "07.05.2024",
          "06.05.2024",
          "05.05.2024",
          "04.05.2024",
          "03.05.2024",
          "02.05.2024",
          "01.05.2024",
          "30.04.2024",
          "29.04.2024",
          "28.04.2024",
          "27.04.2024",
          "26.04.2024",
          "25.04.2024",
          "24.04.2024",
          "23.04.2024",
          "22.04.2024",
          "21.04.2024",
          "20.04.2024",
          "19.04.2024",
          "18.04.2024",
          "17.04.2024",
          "16.04.2024",
          "15.04.2024",
          "14.04.2024",
          "13.04.2024",
          "12.04.2024",
          "11.04.2024",
          "10.04.2024",
          "09.04.2024",
          "08.04.2024",
          "07.04.2024",
          "06.04.2024",
          "05.04.2024",
          "04.04.2024",
          "03.04.2024",
          "02.04.2024",
          "01.04.2024",
          "31.03.2024",
          "30.03.2024",
          "29.03.2024",
          "28.03.2024",
          "27.03.2024",
          "26.03.2024",
          "25.03.2024",
          "24.03.2024",
          "23.03.2024",
          "22.03.2024",
          "21.03.2024",
          "20.03.2024",
          "19.03.2024",
          "18.03.2024",
          "17.03.2024",
          "16.03.2024",
          "15.03.2024",
          "14.03.2024",
          "13.03.2024",
          "12.03.2024",
          "11.03.2024",
          "10.03.2024",
          "09.03.2024",
          "08.03.2024",
          "07.03.2024",
          "06.03.2024",
          "05.03.2024",
          "04.03.2024",
          "03.03.2024",
          "02.03.2024",
          "01.03.2024",
          "29.02.2024",
          "28.02.2024",
          "27.02.2024",
          "26.02.2024",
          "25.02.2024",
          "24.02.2024",
          "23.02.2024",
          "22.02.2024",
          "21.02.2024",
          "20.02.2024",
          "19.02.2024",
          "18.02.2024",
          "17.02.2024",
          "16.02.2024",
          "15.02.2024",
          "14.02.2024",
          "13.02.2024",
          "12.02.2024",
          "11.02.2024",
          "10.02.2024",
          "09.02.2024",
          "08.02.2024",
          "07.02.2024",
          "06.02.2024",
          "05.02.2024",
          "04.02.2024",
          "03.02.2024",
          "02.02.2024",
          "01.02.2024",
          "31.01.2024",
          "30.01.2024"
         ],
         "xaxis": "x",
         "y": [
          0.001274982857341958,
          0.015611515171853167,
          0.031525877632866524,
          0.0015562153452479332,
          0.010303192338306224,
          0.015611515171853167,
          0.015611515171853167,
          0.007648367547022188,
          0.031525877632866524,
          0.015611515171853167,
          0.004993100358672448,
          0.001957967433713573,
          0.031525877632866524,
          31.876165162120625,
          0.004234371318493388,
          0.031525877632866524,
          0.007648367547022188,
          0.007648367547022188,
          0.031525877632866524,
          0.015611515171853167,
          0.006055260328737166,
          0.015611515171853167,
          31.876165162120625,
          31.876165162120625,
          0.0013588597327149998,
          31.876165162120625,
          0.007648367547022188,
          0.031525877632866524,
          0.010303192338306224,
          31.876165162120625,
          31.876165162120625,
          0.010303192338306224,
          0.031525877632866524,
          0.004234371318493388,
          0.0007803895474330416,
          31.876165162120625,
          31.876165162120625,
          0.015611515171853167,
          0.0036653008310399944,
          31.876165162120625,
          0.010303192338306224,
          31.876165162120625,
          31.876165162120625,
          31.876165162120625,
          31.876165162120625,
          0.015611515171853167,
          0.031525877632866524,
          0.010303192338306224,
          31.876165162120625,
          0.007648367547022188,
          31.876165162120625,
          0.006055260328737166,
          0.031525877632866524,
          31.876165162120625,
          0.031525877632866524,
          0.015611515171853167,
          0.031525877632866524,
          0.010303192338306224,
          31.876165162120625,
          0.015611515171853167,
          31.876165162120625,
          0.004993100358672448,
          0.010303192338306224,
          0.004234371318493388,
          0.0011301035783125354,
          0.031525877632866524,
          0.015611515171853167,
          0.031525877632866524,
          0.007648367547022188,
          0.0021330869695442615,
          0.015611515171853167,
          31.876165162120625,
          0.031525877632866524,
          0.0036653008310399944,
          0.031525877632866524,
          0.031525877632866524,
          31.876165162120625,
          0.015611515171853167,
          0.015611515171853167,
          31.876165162120625,
          0.031525877632866524,
          0.031525877632866524,
          0.006055260328737166,
          0.006055260328737166,
          0.031525877632866524,
          31.876165162120625,
          31.876165162120625,
          0.031525877632866524,
          0.007648367547022188,
          0.031525877632866524,
          0.010303192338306224,
          0.031525877632866524,
          0.015611515171853167,
          0.010303192338306224,
          0.00167339408388109,
          0.015611515171853167,
          0.004993100358672448,
          0.001274982857341958,
          0.010303192338306224,
          0.0010093698397238315,
          0.015611515171853167,
          0.007648367547022188,
          0.006055260328737166,
          0.007648367547022188,
          0.007648367547022188,
          0.007648367547022188,
          0.001957967433713573,
          0.0011301035783125354
         ],
         "yaxis": "y"
        },
        {
         "mode": "lines",
         "name": "cnt",
         "showlegend": true,
         "type": "scatter",
         "x": [
          "16.05.2024",
          "15.05.2024",
          "14.05.2024",
          "13.05.2024",
          "12.05.2024",
          "11.05.2024",
          "10.05.2024",
          "09.05.2024",
          "08.05.2024",
          "07.05.2024",
          "06.05.2024",
          "05.05.2024",
          "04.05.2024",
          "03.05.2024",
          "02.05.2024",
          "01.05.2024",
          "30.04.2024",
          "29.04.2024",
          "28.04.2024",
          "27.04.2024",
          "26.04.2024",
          "25.04.2024",
          "24.04.2024",
          "23.04.2024",
          "22.04.2024",
          "21.04.2024",
          "20.04.2024",
          "19.04.2024",
          "18.04.2024",
          "17.04.2024",
          "16.04.2024",
          "15.04.2024",
          "14.04.2024",
          "13.04.2024",
          "12.04.2024",
          "11.04.2024",
          "10.04.2024",
          "09.04.2024",
          "08.04.2024",
          "07.04.2024",
          "06.04.2024",
          "05.04.2024",
          "04.04.2024",
          "03.04.2024",
          "02.04.2024",
          "01.04.2024",
          "31.03.2024",
          "30.03.2024",
          "29.03.2024",
          "28.03.2024",
          "27.03.2024",
          "26.03.2024",
          "25.03.2024",
          "24.03.2024",
          "23.03.2024",
          "22.03.2024",
          "21.03.2024",
          "20.03.2024",
          "19.03.2024",
          "18.03.2024",
          "17.03.2024",
          "16.03.2024",
          "15.03.2024",
          "14.03.2024",
          "13.03.2024",
          "12.03.2024",
          "11.03.2024",
          "10.03.2024",
          "09.03.2024",
          "08.03.2024",
          "07.03.2024",
          "06.03.2024",
          "05.03.2024",
          "04.03.2024",
          "03.03.2024",
          "02.03.2024",
          "01.03.2024",
          "29.02.2024",
          "28.02.2024",
          "27.02.2024",
          "26.02.2024",
          "25.02.2024",
          "24.02.2024",
          "23.02.2024",
          "22.02.2024",
          "21.02.2024",
          "20.02.2024",
          "19.02.2024",
          "18.02.2024",
          "17.02.2024",
          "16.02.2024",
          "15.02.2024",
          "14.02.2024",
          "13.02.2024",
          "12.02.2024",
          "11.02.2024",
          "10.02.2024",
          "09.02.2024",
          "08.02.2024",
          "07.02.2024",
          "06.02.2024",
          "05.02.2024",
          "04.02.2024",
          "03.02.2024",
          "02.02.2024",
          "01.02.2024",
          "31.01.2024",
          "30.01.2024"
         ],
         "y": [
          12.307251932019778,
          12.260759674679855,
          12.306614570403983,
          12.365112781034759,
          12.110970444096848,
          12.037943892708894,
          12.028643103296645,
          11.91970970264429,
          12.226282052825248,
          12.306076339001244,
          12.285184150538289,
          11.959161366287884,
          11.9992391098306,
          12.252230777511256,
          12.2970735537464,
          12.024041046694347,
          12.010902903154921,
          12.001818314286668,
          12.001020699725343,
          12.222275664748766,
          12.300095633622218,
          12.302750072044772,
          12.285553657020403,
          12.261663442411567,
          12.233605124319666,
          11.975482688424348,
          11.879864551904086,
          12.10986456273158,
          12.193108979138316,
          12.175077211827654,
          12.176973337704899,
          12.237251494011174,
          11.945759276538084,
          11.840933408893575,
          12.071838148642913,
          12.136159708055148,
          12.119561143582194,
          12.200849026154948,
          12.271429581674802,
          11.974102756445836,
          11.911184672828064,
          12.123234367221169,
          12.162287933159153,
          12.173203319546891,
          12.176875527872873,
          12.176257560450988,
          11.805206943916906,
          11.793303427236532,
          12.055319520803815,
          12.097975054162461,
          12.071666584780703,
          12.102604782120036,
          12.134759226511402,
          11.848611678470476,
          11.795650270452692,
          12.066235700342375,
          12.144861914485277,
          12.113639323599086,
          12.154516158615772,
          12.188921400212278,
          11.88043945364982,
          11.769256179512112,
          11.979535843647465,
          11.71488623701653,
          12.307039523281297,
          12.0380267055047,
          12.064975562250936,
          11.645277412322548,
          11.522251838826472,
          11.37359442974125,
          11.768094676241601,
          11.910842155321063,
          11.963618845681465,
          11.9872323220358,
          11.629605670510745,
          11.580313048671924,
          11.850810988145641,
          11.817604762666923,
          11.855685037662267,
          11.926094157463424,
          11.983060335603437,
          11.59187526794863,
          11.514793718696911,
          11.43445568626174,
          11.780070590579212,
          11.891416693709857,
          11.921060339411943,
          11.939271050657748,
          11.54006386467122,
          11.505689347305601,
          11.76443876236425,
          11.800222463290481,
          11.818901674577651,
          11.916395250412128,
          11.968158037312284,
          11.62109802312786,
          11.547230268662219,
          11.79830739411945,
          11.830804485519732,
          11.81402955775365,
          11.857840531814093,
          11.860966241532523,
          11.49417068848658,
          11.444946365157367,
          11.749782554412198,
          11.778200872561097,
          11.758573871624508,
          11.765689952517956
         ]
        },
        {
         "mode": "lines",
         "name": "in_rev",
         "showlegend": true,
         "type": "scatter",
         "x": [
          "16.05.2024",
          "15.05.2024",
          "14.05.2024",
          "13.05.2024",
          "12.05.2024",
          "11.05.2024",
          "10.05.2024",
          "09.05.2024",
          "08.05.2024",
          "07.05.2024",
          "06.05.2024",
          "05.05.2024",
          "04.05.2024",
          "03.05.2024",
          "02.05.2024",
          "01.05.2024",
          "30.04.2024",
          "29.04.2024",
          "28.04.2024",
          "27.04.2024",
          "26.04.2024",
          "25.04.2024",
          "24.04.2024",
          "23.04.2024",
          "22.04.2024",
          "21.04.2024",
          "20.04.2024",
          "19.04.2024",
          "18.04.2024",
          "17.04.2024",
          "16.04.2024",
          "15.04.2024",
          "14.04.2024",
          "13.04.2024",
          "12.04.2024",
          "11.04.2024",
          "10.04.2024",
          "09.04.2024",
          "08.04.2024",
          "07.04.2024",
          "06.04.2024",
          "05.04.2024",
          "04.04.2024",
          "03.04.2024",
          "02.04.2024",
          "01.04.2024",
          "31.03.2024",
          "30.03.2024",
          "29.03.2024",
          "28.03.2024",
          "27.03.2024",
          "26.03.2024",
          "25.03.2024",
          "24.03.2024",
          "23.03.2024",
          "22.03.2024",
          "21.03.2024",
          "20.03.2024",
          "19.03.2024",
          "18.03.2024",
          "17.03.2024",
          "16.03.2024",
          "15.03.2024",
          "14.03.2024",
          "13.03.2024",
          "12.03.2024",
          "11.03.2024",
          "10.03.2024",
          "09.03.2024",
          "08.03.2024",
          "07.03.2024",
          "06.03.2024",
          "05.03.2024",
          "04.03.2024",
          "03.03.2024",
          "02.03.2024",
          "01.03.2024",
          "29.02.2024",
          "28.02.2024",
          "27.02.2024",
          "26.02.2024",
          "25.02.2024",
          "24.02.2024",
          "23.02.2024",
          "22.02.2024",
          "21.02.2024",
          "20.02.2024",
          "19.02.2024",
          "18.02.2024",
          "17.02.2024",
          "16.02.2024",
          "15.02.2024",
          "14.02.2024",
          "13.02.2024",
          "12.02.2024",
          "11.02.2024",
          "10.02.2024",
          "09.02.2024",
          "08.02.2024",
          "07.02.2024",
          "06.02.2024",
          "05.02.2024",
          "04.02.2024",
          "03.02.2024",
          "02.02.2024",
          "01.02.2024",
          "31.01.2024",
          "30.01.2024"
         ],
         "y": [
          null,
          19.03551586672704,
          19.057293187442625,
          19.194956176469393,
          18.072298238368877,
          18.13348395319904,
          18.15962028007238,
          17.873559073304204,
          18.856447218824048,
          19.039094396477765,
          19.124584028242314,
          null,
          18.09765593934026,
          18.955717346146493,
          19.18034323469402,
          18.12686137931208,
          18.162669867542213,
          18.298834368685437,
          17.997026163109275,
          18.732808024782862,
          19.109016927402394,
          19.007657957909668,
          19.010969573489096,
          19.02317523261504,
          null,
          17.928412007000702,
          17.76100984751467,
          18.786794421633452,
          18.986435846782776,
          19.02150456368492,
          19.035431096805777,
          19.10873799626738,
          17.941342294124144,
          17.92770758898906,
          20.38964224453884,
          18.941042777968505,
          18.84398984837308,
          19.035713089888397,
          19.051166210222437,
          17.844993797709613,
          17.828459790548735,
          18.808521706033993,
          18.81038306131542,
          18.916240606206106,
          18.922741412409216,
          18.917236169416736,
          17.790539663284594,
          17.67010674238155,
          18.747413341416394,
          18.774388535550663,
          18.81596661167024,
          19.167046611734637,
          19.10114274201223,
          17.90643606077517,
          17.92797789532719,
          18.949294635053082,
          19.033758087586612,
          19.186085427818426,
          19.111379617052048,
          19.180874702270664,
          17.84114289065507,
          17.60798413460936,
          18.6890495121902,
          18.740863818109432,
          18.77877313143319,
          18.83276272256851,
          18.994055719742057,
          17.708574307872265,
          17.451800533533124,
          17.370774114597538,
          18.49915857355342,
          18.69420299501833,
          19.041842864892047,
          19.15019257692728,
          17.911664373832814,
          17.857691276454364,
          18.77660444098329,
          18.952021197491074,
          19.03305114470499,
          19.017478396903133,
          19.06041868321878,
          17.882599367565636,
          17.481675624431855,
          17.517899797332834,
          18.4909993410633,
          18.64093218089265,
          18.797901436860823,
          18.98473607256733,
          17.581023467665904,
          17.56535024063123,
          18.568906137134963,
          18.642624002483316,
          18.759834728335758,
          19.08597880551311,
          19.256766893749695,
          17.88326286281242,
          17.79115128090793,
          19.351569104489077,
          18.859624410473284,
          19.401098726097572,
          18.981386807093145,
          19.055683350882482,
          17.783526501006506,
          17.47969444571785,
          18.61814717752801,
          18.66021783815376,
          18.646523638838396,
          19.020992598479456
         ]
        },
        {
         "mode": "lines",
         "name": "out_rev",
         "showlegend": true,
         "type": "scatter",
         "x": [
          "16.05.2024",
          "15.05.2024",
          "14.05.2024",
          "13.05.2024",
          "12.05.2024",
          "11.05.2024",
          "10.05.2024",
          "09.05.2024",
          "08.05.2024",
          "07.05.2024",
          "06.05.2024",
          "05.05.2024",
          "04.05.2024",
          "03.05.2024",
          "02.05.2024",
          "01.05.2024",
          "30.04.2024",
          "29.04.2024",
          "28.04.2024",
          "27.04.2024",
          "26.04.2024",
          "25.04.2024",
          "24.04.2024",
          "23.04.2024",
          "22.04.2024",
          "21.04.2024",
          "20.04.2024",
          "19.04.2024",
          "18.04.2024",
          "17.04.2024",
          "16.04.2024",
          "15.04.2024",
          "14.04.2024",
          "13.04.2024",
          "12.04.2024",
          "11.04.2024",
          "10.04.2024",
          "09.04.2024",
          "08.04.2024",
          "07.04.2024",
          "06.04.2024",
          "05.04.2024",
          "04.04.2024",
          "03.04.2024",
          "02.04.2024",
          "01.04.2024",
          "31.03.2024",
          "30.03.2024",
          "29.03.2024",
          "28.03.2024",
          "27.03.2024",
          "26.03.2024",
          "25.03.2024",
          "24.03.2024",
          "23.03.2024",
          "22.03.2024",
          "21.03.2024",
          "20.03.2024",
          "19.03.2024",
          "18.03.2024",
          "17.03.2024",
          "16.03.2024",
          "15.03.2024",
          "14.03.2024",
          "13.03.2024",
          "12.03.2024",
          "11.03.2024",
          "10.03.2024",
          "09.03.2024",
          "08.03.2024",
          "07.03.2024",
          "06.03.2024",
          "05.03.2024",
          "04.03.2024",
          "03.03.2024",
          "02.03.2024",
          "01.03.2024",
          "29.02.2024",
          "28.02.2024",
          "27.02.2024",
          "26.02.2024",
          "25.02.2024",
          "24.02.2024",
          "23.02.2024",
          "22.02.2024",
          "21.02.2024",
          "20.02.2024",
          "19.02.2024",
          "18.02.2024",
          "17.02.2024",
          "16.02.2024",
          "15.02.2024",
          "14.02.2024",
          "13.02.2024",
          "12.02.2024",
          "11.02.2024",
          "10.02.2024",
          "09.02.2024",
          "08.02.2024",
          "07.02.2024",
          "06.02.2024",
          "05.02.2024",
          "04.02.2024",
          "03.02.2024",
          "02.02.2024",
          "01.02.2024",
          "31.01.2024",
          "30.01.2024"
         ],
         "y": [
          null,
          18.345425433981337,
          18.57819534097481,
          18.764472497149065,
          17.74622273789279,
          17.659431327814392,
          17.874238136100942,
          17.639447754862434,
          18.42137928771385,
          18.628622953793414,
          18.729776611689488,
          null,
          17.81000383193894,
          18.581002647149365,
          18.773495683851703,
          17.885452210307285,
          17.9313823557323,
          18.05430075836318,
          17.77576591811032,
          18.422797932625876,
          18.647983422812125,
          18.635446725135818,
          18.631930478134024,
          18.64448895385211,
          null,
          17.634595170696034,
          17.530854078376105,
          18.467090859766675,
          18.56893009890728,
          18.61410659597196,
          18.590854870219683,
          18.673021890843952,
          17.67533484786641,
          17.668136830973655,
          18.424906105724975,
          18.577247750480925,
          18.433384640360867,
          18.502590464871513,
          18.69345906577944,
          17.64542136623529,
          17.611896048035412,
          18.369944029908392,
          18.433735761067627,
          18.49125304743966,
          18.506905088463167,
          18.585979728119632,
          17.551235650692185,
          17.3993984702856,
          18.365215428987742,
          18.41337796968817,
          18.46773675611091,
          18.488581098820312,
          18.480208650714285,
          17.492978186181254,
          17.40284074216553,
          18.26357589980874,
          18.400438500241048,
          18.539438837063464,
          18.429922277133148,
          18.524516237504876,
          17.447163117334675,
          17.382195831141466,
          18.287442498298926,
          18.369852651131257,
          18.417136708772073,
          18.440925775824187,
          18.578412083986233,
          17.439213419149457,
          17.263756681415558,
          17.13569196767928,
          18.12920641504366,
          18.311801809913447,
          18.385179853049735,
          18.50173750007417,
          17.441148931034448,
          17.371181329091616,
          18.171472339659584,
          18.245112261497244,
          18.36552779308541,
          18.324013278672705,
          18.46213257045481,
          17.439111937538424,
          17.133648700821993,
          17.273778311553766,
          18.13342846352676,
          18.280056161920584,
          18.398393047309554,
          18.42967719079488,
          17.39868818790348,
          17.31070871495901,
          18.09974736629987,
          18.293277966087366,
          18.299327211050308,
          18.380390673872718,
          18.418315607921883,
          17.40128260071796,
          17.343770368089412,
          18.133758320893907,
          18.29132977966268,
          18.3256855004404,
          18.317803692165942,
          18.41330387322432,
          17.429245965038064,
          17.25451283206816,
          18.164878700199285,
          18.296156210150787,
          18.307632270534345,
          18.296105882386925
         ]
        },
        {
         "mode": "lines",
         "name": "sessions",
         "showlegend": true,
         "type": "scatter",
         "x": [
          "16.05.2024",
          "15.05.2024",
          "14.05.2024",
          "13.05.2024",
          "12.05.2024",
          "11.05.2024",
          "10.05.2024",
          "09.05.2024",
          "08.05.2024",
          "07.05.2024",
          "06.05.2024",
          "05.05.2024",
          "04.05.2024",
          "03.05.2024",
          "02.05.2024",
          "01.05.2024",
          "30.04.2024",
          "29.04.2024",
          "28.04.2024",
          "27.04.2024",
          "26.04.2024",
          "25.04.2024",
          "24.04.2024",
          "23.04.2024",
          "22.04.2024",
          "21.04.2024",
          "20.04.2024",
          "19.04.2024",
          "18.04.2024",
          "17.04.2024",
          "16.04.2024",
          "15.04.2024",
          "14.04.2024",
          "13.04.2024",
          "12.04.2024",
          "11.04.2024",
          "10.04.2024",
          "09.04.2024",
          "08.04.2024",
          "07.04.2024",
          "06.04.2024",
          "05.04.2024",
          "04.04.2024",
          "03.04.2024",
          "02.04.2024",
          "01.04.2024",
          "31.03.2024",
          "30.03.2024",
          "29.03.2024",
          "28.03.2024",
          "27.03.2024",
          "26.03.2024",
          "25.03.2024",
          "24.03.2024",
          "23.03.2024",
          "22.03.2024",
          "21.03.2024",
          "20.03.2024",
          "19.03.2024",
          "18.03.2024",
          "17.03.2024",
          "16.03.2024",
          "15.03.2024",
          "14.03.2024",
          "13.03.2024",
          "12.03.2024",
          "11.03.2024",
          "10.03.2024",
          "09.03.2024",
          "08.03.2024",
          "07.03.2024",
          "06.03.2024",
          "05.03.2024",
          "04.03.2024",
          "03.03.2024",
          "02.03.2024",
          "01.03.2024",
          "29.02.2024",
          "28.02.2024",
          "27.02.2024",
          "26.02.2024",
          "25.02.2024",
          "24.02.2024",
          "23.02.2024",
          "22.02.2024",
          "21.02.2024",
          "20.02.2024",
          "19.02.2024",
          "18.02.2024",
          "17.02.2024",
          "16.02.2024",
          "15.02.2024",
          "14.02.2024",
          "13.02.2024",
          "12.02.2024",
          "11.02.2024",
          "10.02.2024",
          "09.02.2024",
          "08.02.2024",
          "07.02.2024",
          "06.02.2024",
          "05.02.2024",
          "04.02.2024",
          "03.02.2024",
          "02.02.2024",
          "01.02.2024",
          "31.01.2024",
          "30.01.2024"
         ],
         "y": [
          12.508138276849216,
          12.475958551396511,
          12.515654409606775,
          12.578818261675409,
          12.258997108838061,
          12.18338726709679,
          12.178084608990005,
          12.058488690824337,
          12.42752677056712,
          12.516266906393811,
          12.50773898078807,
          12.114949189155228,
          12.153541743516879,
          12.459954885270655,
          12.51291375586595,
          12.178958353038603,
          12.16502145808056,
          12.151141162003956,
          12.140579001741482,
          12.412432129109794,
          12.505880897779795,
          12.519506525524811,
          12.503462445151802,
          12.489366353178694,
          12.468583053164386,
          12.137413646872915,
          12.045205292605136,
          12.330610593090261,
          12.41691686925733,
          12.404394675945692,
          12.41311933471093,
          12.473420624482628,
          12.108459816663173,
          12.003919741027612,
          12.292961098298264,
          12.36293963285166,
          12.347420286542201,
          12.430291618371305,
          12.49812266459864,
          12.134673309399883,
          12.067861749660239,
          12.339125173517326,
          12.387589712141995,
          12.399490740716852,
          12.402617568960371,
          12.406999217344088,
          11.965445899954108,
          11.953712670856081,
          12.27350229582329,
          12.324211173547216,
          12.300973650724893,
          12.328905133440013,
          12.365918505558943,
          12.00116799953596,
          11.950457554069,
          12.277383495095645,
          12.364588071692493,
          12.336627111502246,
          12.375216084433369,
          12.400668563199517,
          12.029472689118318,
          11.924611184891448,
          12.193276118099556,
          11.915399437422364,
          12.484173968825058,
          12.268512090147281,
          12.30261388545077,
          11.81445126924266,
          11.69052756931406,
          11.533923455965834,
          11.987356777543116,
          12.150507080080464,
          12.204245978188766,
          12.23212530844243,
          11.801684457335542,
          11.75771308434231,
          12.086015776673372,
          12.05737540198488,
          12.087046963108008,
          12.171413910711951,
          12.227183240592863,
          11.763357281641854,
          11.686164231155798,
          11.61267124747345,
          12.013955265946066,
          12.138050731083265,
          12.166796330831156,
          12.188738269593852,
          11.716510999068774,
          11.683545491789841,
          12.009729240493781,
          12.062369697584154,
          12.077909674253707,
          12.17597935047279,
          12.224796259528276,
          11.805378637600866,
          11.731820001995024,
          12.04619727756605,
          12.093928058901547,
          12.078977637726341,
          12.124721582332699,
          12.132243096151695,
          11.682271536408459,
          11.63582428156526,
          11.993745386649813,
          12.006163326813839,
          11.990698831480325,
          11.99723256017541
         ]
        },
        {
         "mode": "lines",
         "name": "users",
         "showlegend": true,
         "type": "scatter",
         "x": [
          "16.05.2024",
          "15.05.2024",
          "14.05.2024",
          "13.05.2024",
          "12.05.2024",
          "11.05.2024",
          "10.05.2024",
          "09.05.2024",
          "08.05.2024",
          "07.05.2024",
          "06.05.2024",
          "05.05.2024",
          "04.05.2024",
          "03.05.2024",
          "02.05.2024",
          "01.05.2024",
          "30.04.2024",
          "29.04.2024",
          "28.04.2024",
          "27.04.2024",
          "26.04.2024",
          "25.04.2024",
          "24.04.2024",
          "23.04.2024",
          "22.04.2024",
          "21.04.2024",
          "20.04.2024",
          "19.04.2024",
          "18.04.2024",
          "17.04.2024",
          "16.04.2024",
          "15.04.2024",
          "14.04.2024",
          "13.04.2024",
          "12.04.2024",
          "11.04.2024",
          "10.04.2024",
          "09.04.2024",
          "08.04.2024",
          "07.04.2024",
          "06.04.2024",
          "05.04.2024",
          "04.04.2024",
          "03.04.2024",
          "02.04.2024",
          "01.04.2024",
          "31.03.2024",
          "30.03.2024",
          "29.03.2024",
          "28.03.2024",
          "27.03.2024",
          "26.03.2024",
          "25.03.2024",
          "24.03.2024",
          "23.03.2024",
          "22.03.2024",
          "21.03.2024",
          "20.03.2024",
          "19.03.2024",
          "18.03.2024",
          "17.03.2024",
          "16.03.2024",
          "15.03.2024",
          "14.03.2024",
          "13.03.2024",
          "12.03.2024",
          "11.03.2024",
          "10.03.2024",
          "09.03.2024",
          "08.03.2024",
          "07.03.2024",
          "06.03.2024",
          "05.03.2024",
          "04.03.2024",
          "03.03.2024",
          "02.03.2024",
          "01.03.2024",
          "29.02.2024",
          "28.02.2024",
          "27.02.2024",
          "26.02.2024",
          "25.02.2024",
          "24.02.2024",
          "23.02.2024",
          "22.02.2024",
          "21.02.2024",
          "20.02.2024",
          "19.02.2024",
          "18.02.2024",
          "17.02.2024",
          "16.02.2024",
          "15.02.2024",
          "14.02.2024",
          "13.02.2024",
          "12.02.2024",
          "11.02.2024",
          "10.02.2024",
          "09.02.2024",
          "08.02.2024",
          "07.02.2024",
          "06.02.2024",
          "05.02.2024",
          "04.02.2024",
          "03.02.2024",
          "02.02.2024",
          "01.02.2024",
          "31.01.2024",
          "30.01.2024"
         ],
         "y": [
          12.215626858334986,
          12.133254610280769,
          12.183796361265745,
          12.238307475663532,
          12.014040089241016,
          11.939656181982498,
          11.929290947546681,
          11.828195953124407,
          12.106804643871504,
          12.181349532474668,
          12.152698239763359,
          11.875455235910731,
          11.898827117178454,
          12.12579491023981,
          12.163999869108267,
          11.917983823700412,
          11.90233571411686,
          11.891984994198621,
          11.88410273990907,
          12.102976231525414,
          12.172133162100609,
          12.169709445793867,
          12.14922712391082,
          12.125090329896636,
          12.121179024511544,
          11.868520826369384,
          11.77170639387557,
          11.97919086573831,
          12.06023729730663,
          12.038954922478492,
          12.041805129321805,
          12.09955034414948,
          11.8416679035295,
          11.737124459108655,
          11.94214616143279,
          12.00727408541741,
          11.990277031878502,
          12.068033967481766,
          12.135483858389875,
          11.870460039320843,
          11.808292928997997,
          11.99603656476751,
          12.02753790967074,
          12.035468174789564,
          12.039598847013885,
          12.038363801104065,
          11.704966302825094,
          11.691732519797487,
          11.927317277894913,
          11.96604358299643,
          11.935385340454255,
          11.972600941997293,
          11.999546507039396,
          11.751540709984825,
          11.699214142325294,
          11.93866367791795,
          12.011370767847268,
          11.979479400860056,
          12.023627081047584,
          12.061306955262653,
          11.795039564993532,
          11.67791434163557,
          11.859673297786212,
          11.594901686815309,
          12.210358448342882,
          11.907673348237187,
          11.92786554344091,
          11.537452210146824,
          11.416183260307571,
          11.275404045710063,
          11.642926884564483,
          11.770253994457702,
          11.820196906686194,
          11.840573165365056,
          11.515821268082254,
          11.466975762866129,
          11.709774321044721,
          11.66799572185687,
          11.711899266977234,
          11.783143423670367,
          11.838495632264573,
          11.489452108784587,
          11.407931548773274,
          11.324038402334109,
          11.644497439187695,
          11.74549643816731,
          11.77474342639523,
          11.793975594623962,
          11.434044582116782,
          11.398591474513294,
          11.62977473146652,
          11.65605564151402,
          11.675435394427502,
          11.768675596513079,
          11.821292128614843,
          11.505044491519353,
          11.432864423795301,
          11.6623880298824,
          11.685466009909078,
          11.666624614301504,
          11.710701976319044,
          11.7123089687201,
          11.384637444668698,
          11.330515904304047,
          11.612517374165186,
          11.641019602477705,
          11.62203992575095,
          11.63195217139187
         ]
        }
       ],
       "layout": {
        "barmode": "relative",
        "legend": {
         "title": {
          "text": "variable"
         },
         "tracegroupgap": 0
        },
        "margin": {
         "t": 60
        },
        "template": {
         "data": {
          "bar": [
           {
            "error_x": {
             "color": "#2a3f5f"
            },
            "error_y": {
             "color": "#2a3f5f"
            },
            "marker": {
             "line": {
              "color": "#E5ECF6",
              "width": 0.5
             },
             "pattern": {
              "fillmode": "overlay",
              "size": 10,
              "solidity": 0.2
             }
            },
            "type": "bar"
           }
          ],
          "barpolar": [
           {
            "marker": {
             "line": {
              "color": "#E5ECF6",
              "width": 0.5
             },
             "pattern": {
              "fillmode": "overlay",
              "size": 10,
              "solidity": 0.2
             }
            },
            "type": "barpolar"
           }
          ],
          "carpet": [
           {
            "aaxis": {
             "endlinecolor": "#2a3f5f",
             "gridcolor": "white",
             "linecolor": "white",
             "minorgridcolor": "white",
             "startlinecolor": "#2a3f5f"
            },
            "baxis": {
             "endlinecolor": "#2a3f5f",
             "gridcolor": "white",
             "linecolor": "white",
             "minorgridcolor": "white",
             "startlinecolor": "#2a3f5f"
            },
            "type": "carpet"
           }
          ],
          "choropleth": [
           {
            "colorbar": {
             "outlinewidth": 0,
             "ticks": ""
            },
            "type": "choropleth"
           }
          ],
          "contour": [
           {
            "colorbar": {
             "outlinewidth": 0,
             "ticks": ""
            },
            "colorscale": [
             [
              0,
              "#0d0887"
             ],
             [
              0.1111111111111111,
              "#46039f"
             ],
             [
              0.2222222222222222,
              "#7201a8"
             ],
             [
              0.3333333333333333,
              "#9c179e"
             ],
             [
              0.4444444444444444,
              "#bd3786"
             ],
             [
              0.5555555555555556,
              "#d8576b"
             ],
             [
              0.6666666666666666,
              "#ed7953"
             ],
             [
              0.7777777777777778,
              "#fb9f3a"
             ],
             [
              0.8888888888888888,
              "#fdca26"
             ],
             [
              1,
              "#f0f921"
             ]
            ],
            "type": "contour"
           }
          ],
          "contourcarpet": [
           {
            "colorbar": {
             "outlinewidth": 0,
             "ticks": ""
            },
            "type": "contourcarpet"
           }
          ],
          "heatmap": [
           {
            "colorbar": {
             "outlinewidth": 0,
             "ticks": ""
            },
            "colorscale": [
             [
              0,
              "#0d0887"
             ],
             [
              0.1111111111111111,
              "#46039f"
             ],
             [
              0.2222222222222222,
              "#7201a8"
             ],
             [
              0.3333333333333333,
              "#9c179e"
             ],
             [
              0.4444444444444444,
              "#bd3786"
             ],
             [
              0.5555555555555556,
              "#d8576b"
             ],
             [
              0.6666666666666666,
              "#ed7953"
             ],
             [
              0.7777777777777778,
              "#fb9f3a"
             ],
             [
              0.8888888888888888,
              "#fdca26"
             ],
             [
              1,
              "#f0f921"
             ]
            ],
            "type": "heatmap"
           }
          ],
          "heatmapgl": [
           {
            "colorbar": {
             "outlinewidth": 0,
             "ticks": ""
            },
            "colorscale": [
             [
              0,
              "#0d0887"
             ],
             [
              0.1111111111111111,
              "#46039f"
             ],
             [
              0.2222222222222222,
              "#7201a8"
             ],
             [
              0.3333333333333333,
              "#9c179e"
             ],
             [
              0.4444444444444444,
              "#bd3786"
             ],
             [
              0.5555555555555556,
              "#d8576b"
             ],
             [
              0.6666666666666666,
              "#ed7953"
             ],
             [
              0.7777777777777778,
              "#fb9f3a"
             ],
             [
              0.8888888888888888,
              "#fdca26"
             ],
             [
              1,
              "#f0f921"
             ]
            ],
            "type": "heatmapgl"
           }
          ],
          "histogram": [
           {
            "marker": {
             "pattern": {
              "fillmode": "overlay",
              "size": 10,
              "solidity": 0.2
             }
            },
            "type": "histogram"
           }
          ],
          "histogram2d": [
           {
            "colorbar": {
             "outlinewidth": 0,
             "ticks": ""
            },
            "colorscale": [
             [
              0,
              "#0d0887"
             ],
             [
              0.1111111111111111,
              "#46039f"
             ],
             [
              0.2222222222222222,
              "#7201a8"
             ],
             [
              0.3333333333333333,
              "#9c179e"
             ],
             [
              0.4444444444444444,
              "#bd3786"
             ],
             [
              0.5555555555555556,
              "#d8576b"
             ],
             [
              0.6666666666666666,
              "#ed7953"
             ],
             [
              0.7777777777777778,
              "#fb9f3a"
             ],
             [
              0.8888888888888888,
              "#fdca26"
             ],
             [
              1,
              "#f0f921"
             ]
            ],
            "type": "histogram2d"
           }
          ],
          "histogram2dcontour": [
           {
            "colorbar": {
             "outlinewidth": 0,
             "ticks": ""
            },
            "colorscale": [
             [
              0,
              "#0d0887"
             ],
             [
              0.1111111111111111,
              "#46039f"
             ],
             [
              0.2222222222222222,
              "#7201a8"
             ],
             [
              0.3333333333333333,
              "#9c179e"
             ],
             [
              0.4444444444444444,
              "#bd3786"
             ],
             [
              0.5555555555555556,
              "#d8576b"
             ],
             [
              0.6666666666666666,
              "#ed7953"
             ],
             [
              0.7777777777777778,
              "#fb9f3a"
             ],
             [
              0.8888888888888888,
              "#fdca26"
             ],
             [
              1,
              "#f0f921"
             ]
            ],
            "type": "histogram2dcontour"
           }
          ],
          "mesh3d": [
           {
            "colorbar": {
             "outlinewidth": 0,
             "ticks": ""
            },
            "type": "mesh3d"
           }
          ],
          "parcoords": [
           {
            "line": {
             "colorbar": {
              "outlinewidth": 0,
              "ticks": ""
             }
            },
            "type": "parcoords"
           }
          ],
          "pie": [
           {
            "automargin": true,
            "type": "pie"
           }
          ],
          "scatter": [
           {
            "fillpattern": {
             "fillmode": "overlay",
             "size": 10,
             "solidity": 0.2
            },
            "type": "scatter"
           }
          ],
          "scatter3d": [
           {
            "line": {
             "colorbar": {
              "outlinewidth": 0,
              "ticks": ""
             }
            },
            "marker": {
             "colorbar": {
              "outlinewidth": 0,
              "ticks": ""
             }
            },
            "type": "scatter3d"
           }
          ],
          "scattercarpet": [
           {
            "marker": {
             "colorbar": {
              "outlinewidth": 0,
              "ticks": ""
             }
            },
            "type": "scattercarpet"
           }
          ],
          "scattergeo": [
           {
            "marker": {
             "colorbar": {
              "outlinewidth": 0,
              "ticks": ""
             }
            },
            "type": "scattergeo"
           }
          ],
          "scattergl": [
           {
            "marker": {
             "colorbar": {
              "outlinewidth": 0,
              "ticks": ""
             }
            },
            "type": "scattergl"
           }
          ],
          "scattermapbox": [
           {
            "marker": {
             "colorbar": {
              "outlinewidth": 0,
              "ticks": ""
             }
            },
            "type": "scattermapbox"
           }
          ],
          "scatterpolar": [
           {
            "marker": {
             "colorbar": {
              "outlinewidth": 0,
              "ticks": ""
             }
            },
            "type": "scatterpolar"
           }
          ],
          "scatterpolargl": [
           {
            "marker": {
             "colorbar": {
              "outlinewidth": 0,
              "ticks": ""
             }
            },
            "type": "scatterpolargl"
           }
          ],
          "scatterternary": [
           {
            "marker": {
             "colorbar": {
              "outlinewidth": 0,
              "ticks": ""
             }
            },
            "type": "scatterternary"
           }
          ],
          "surface": [
           {
            "colorbar": {
             "outlinewidth": 0,
             "ticks": ""
            },
            "colorscale": [
             [
              0,
              "#0d0887"
             ],
             [
              0.1111111111111111,
              "#46039f"
             ],
             [
              0.2222222222222222,
              "#7201a8"
             ],
             [
              0.3333333333333333,
              "#9c179e"
             ],
             [
              0.4444444444444444,
              "#bd3786"
             ],
             [
              0.5555555555555556,
              "#d8576b"
             ],
             [
              0.6666666666666666,
              "#ed7953"
             ],
             [
              0.7777777777777778,
              "#fb9f3a"
             ],
             [
              0.8888888888888888,
              "#fdca26"
             ],
             [
              1,
              "#f0f921"
             ]
            ],
            "type": "surface"
           }
          ],
          "table": [
           {
            "cells": {
             "fill": {
              "color": "#EBF0F8"
             },
             "line": {
              "color": "white"
             }
            },
            "header": {
             "fill": {
              "color": "#C8D4E3"
             },
             "line": {
              "color": "white"
             }
            },
            "type": "table"
           }
          ]
         },
         "layout": {
          "annotationdefaults": {
           "arrowcolor": "#2a3f5f",
           "arrowhead": 0,
           "arrowwidth": 1
          },
          "autotypenumbers": "strict",
          "coloraxis": {
           "colorbar": {
            "outlinewidth": 0,
            "ticks": ""
           }
          },
          "colorscale": {
           "diverging": [
            [
             0,
             "#8e0152"
            ],
            [
             0.1,
             "#c51b7d"
            ],
            [
             0.2,
             "#de77ae"
            ],
            [
             0.3,
             "#f1b6da"
            ],
            [
             0.4,
             "#fde0ef"
            ],
            [
             0.5,
             "#f7f7f7"
            ],
            [
             0.6,
             "#e6f5d0"
            ],
            [
             0.7,
             "#b8e186"
            ],
            [
             0.8,
             "#7fbc41"
            ],
            [
             0.9,
             "#4d9221"
            ],
            [
             1,
             "#276419"
            ]
           ],
           "sequential": [
            [
             0,
             "#0d0887"
            ],
            [
             0.1111111111111111,
             "#46039f"
            ],
            [
             0.2222222222222222,
             "#7201a8"
            ],
            [
             0.3333333333333333,
             "#9c179e"
            ],
            [
             0.4444444444444444,
             "#bd3786"
            ],
            [
             0.5555555555555556,
             "#d8576b"
            ],
            [
             0.6666666666666666,
             "#ed7953"
            ],
            [
             0.7777777777777778,
             "#fb9f3a"
            ],
            [
             0.8888888888888888,
             "#fdca26"
            ],
            [
             1,
             "#f0f921"
            ]
           ],
           "sequentialminus": [
            [
             0,
             "#0d0887"
            ],
            [
             0.1111111111111111,
             "#46039f"
            ],
            [
             0.2222222222222222,
             "#7201a8"
            ],
            [
             0.3333333333333333,
             "#9c179e"
            ],
            [
             0.4444444444444444,
             "#bd3786"
            ],
            [
             0.5555555555555556,
             "#d8576b"
            ],
            [
             0.6666666666666666,
             "#ed7953"
            ],
            [
             0.7777777777777778,
             "#fb9f3a"
            ],
            [
             0.8888888888888888,
             "#fdca26"
            ],
            [
             1,
             "#f0f921"
            ]
           ]
          },
          "colorway": [
           "#636efa",
           "#EF553B",
           "#00cc96",
           "#ab63fa",
           "#FFA15A",
           "#19d3f3",
           "#FF6692",
           "#B6E880",
           "#FF97FF",
           "#FECB52"
          ],
          "font": {
           "color": "#2a3f5f"
          },
          "geo": {
           "bgcolor": "white",
           "lakecolor": "white",
           "landcolor": "#E5ECF6",
           "showlakes": true,
           "showland": true,
           "subunitcolor": "white"
          },
          "hoverlabel": {
           "align": "left"
          },
          "hovermode": "closest",
          "mapbox": {
           "style": "light"
          },
          "paper_bgcolor": "white",
          "plot_bgcolor": "#E5ECF6",
          "polar": {
           "angularaxis": {
            "gridcolor": "white",
            "linecolor": "white",
            "ticks": ""
           },
           "bgcolor": "#E5ECF6",
           "radialaxis": {
            "gridcolor": "white",
            "linecolor": "white",
            "ticks": ""
           }
          },
          "scene": {
           "xaxis": {
            "backgroundcolor": "#E5ECF6",
            "gridcolor": "white",
            "gridwidth": 2,
            "linecolor": "white",
            "showbackground": true,
            "ticks": "",
            "zerolinecolor": "white"
           },
           "yaxis": {
            "backgroundcolor": "#E5ECF6",
            "gridcolor": "white",
            "gridwidth": 2,
            "linecolor": "white",
            "showbackground": true,
            "ticks": "",
            "zerolinecolor": "white"
           },
           "zaxis": {
            "backgroundcolor": "#E5ECF6",
            "gridcolor": "white",
            "gridwidth": 2,
            "linecolor": "white",
            "showbackground": true,
            "ticks": "",
            "zerolinecolor": "white"
           }
          },
          "shapedefaults": {
           "line": {
            "color": "#2a3f5f"
           }
          },
          "ternary": {
           "aaxis": {
            "gridcolor": "white",
            "linecolor": "white",
            "ticks": ""
           },
           "baxis": {
            "gridcolor": "white",
            "linecolor": "white",
            "ticks": ""
           },
           "bgcolor": "#E5ECF6",
           "caxis": {
            "gridcolor": "white",
            "linecolor": "white",
            "ticks": ""
           }
          },
          "title": {
           "x": 0.05
          },
          "xaxis": {
           "automargin": true,
           "gridcolor": "white",
           "linecolor": "white",
           "ticks": "",
           "title": {
            "standoff": 15
           },
           "zerolinecolor": "white",
           "zerolinewidth": 2
          },
          "yaxis": {
           "automargin": true,
           "gridcolor": "white",
           "linecolor": "white",
           "ticks": "",
           "title": {
            "standoff": 15
           },
           "zerolinecolor": "white",
           "zerolinewidth": 2
          }
         }
        },
        "xaxis": {
         "anchor": "y",
         "domain": [
          0,
          1
         ],
         "title": {
          "text": "date"
         }
        },
        "yaxis": {
         "anchor": "x",
         "domain": [
          0,
          1
         ],
         "title": {
          "text": "value"
         }
        }
       }
      }
     },
     "metadata": {},
     "output_type": "display_data"
    }
   ],
   "source": [
    "import plotly.express as px\n",
    "import plotly.graph_objects as go\n",
    "\n",
    "fig = px.bar(df_orig['rankings']*100)\n",
    "fig.update_traces(width=0.2)\n",
    "\n",
    "columns = ['cnt', 'in_rev', 'out_rev', 'sessions', 'users']\n",
    "for column in columns:\n",
    "\tfig.add_trace(\n",
    "\t\tgo.Scatter(\n",
    "\t\t\tx=df_orig.index,\n",
    "\t\t\ty=np.log(df_orig[column]),\n",
    "\t\t\tmode=\"lines\",\n",
    "\t\t\tname=column,\n",
    "\t\t\tshowlegend=True)\n",
    "\t)\n",
    "fig.show()"
   ]
  },
  {
   "cell_type": "code",
   "execution_count": null,
   "metadata": {},
   "outputs": [],
   "source": []
  }
 ],
 "metadata": {
  "kernelspec": {
   "display_name": "kc_ml",
   "language": "python",
   "name": "python3"
  },
  "language_info": {
   "codemirror_mode": {
    "name": "ipython",
    "version": 3
   },
   "file_extension": ".py",
   "mimetype": "text/x-python",
   "name": "python",
   "nbconvert_exporter": "python",
   "pygments_lexer": "ipython3",
   "version": "3.12.0"
  }
 },
 "nbformat": 4,
 "nbformat_minor": 2
}
