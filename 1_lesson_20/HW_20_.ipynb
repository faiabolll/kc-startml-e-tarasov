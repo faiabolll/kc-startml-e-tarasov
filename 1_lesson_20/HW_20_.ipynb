{
 "cells": [
  {
   "cell_type": "code",
   "execution_count": 1,
   "id": "1a4eb3c4",
   "metadata": {},
   "outputs": [],
   "source": [
    "import pandas as pd\n",
    "import numpy as np\n",
    "import matplotlib.pyplot as plt\n",
    "import seaborn as sns\n",
    "\n",
    "import matplotlib\n",
    "matplotlib.rcParams['figure.figsize'] = (8, 5)\n",
    "\n",
    "import warnings\n",
    "warnings.filterwarnings('ignore')"
   ]
  },
  {
   "cell_type": "markdown",
   "id": "86cb57d5",
   "metadata": {},
   "source": [
    "# Boostings"
   ]
  },
  {
   "cell_type": "markdown",
   "id": "575f3a0f",
   "metadata": {},
   "source": [
    "Данные с которыми вы будете работать представляют из себя характеристики клиента страховой компании по которым нужно понять будет ли он заинтересован в страховке. Таким образом, страховая компания может более оптимально таргетить рекламу и выстраивать коммуникацию с клиентами, повышая конверсию.\n",
    "\n",
    "**Описания колонок:**\n",
    "- Gender - Male, Female\n",
    "- Age - Возраст\n",
    "- Driving_License - Наличие водительского удостоверения\n",
    "- Region_Code - Область проживания\n",
    "- Previously_Insured - Пользовался ли раньше услугами страховой компании\n",
    "- Vehicle_Age - Возраст транспортного средства\n",
    "- Vehicle_Damage - Попадало ли траспортное средство в ДТП\n",
    "- Annual_Premium - Ежегодные выплаты клиента\n",
    "- Policy_Sales_Channel - Политика распространения страховых услуг (через посредников, напрямую и т.д.)\n",
    "- Vintage - Количество дней, в течение которых клиент был связан с компанией \n",
    "\n",
    "\n",
    "- **Response** - заинтересован в страховке 1, не откликнулся 0"
   ]
  },
  {
   "cell_type": "code",
   "execution_count": 104,
   "id": "944a14e6",
   "metadata": {},
   "outputs": [
    {
     "data": {
      "text/html": [
       "<div>\n",
       "<style scoped>\n",
       "    .dataframe tbody tr th:only-of-type {\n",
       "        vertical-align: middle;\n",
       "    }\n",
       "\n",
       "    .dataframe tbody tr th {\n",
       "        vertical-align: top;\n",
       "    }\n",
       "\n",
       "    .dataframe thead th {\n",
       "        text-align: right;\n",
       "    }\n",
       "</style>\n",
       "<table border=\"1\" class=\"dataframe\">\n",
       "  <thead>\n",
       "    <tr style=\"text-align: right;\">\n",
       "      <th></th>\n",
       "      <th>Gender</th>\n",
       "      <th>Age</th>\n",
       "      <th>Driving_License</th>\n",
       "      <th>Region_Code</th>\n",
       "      <th>Previously_Insured</th>\n",
       "      <th>Vehicle_Age</th>\n",
       "      <th>Vehicle_Damage</th>\n",
       "      <th>Annual_Premium</th>\n",
       "      <th>Policy_Sales_Channel</th>\n",
       "      <th>Vintage</th>\n",
       "      <th>Response</th>\n",
       "    </tr>\n",
       "  </thead>\n",
       "  <tbody>\n",
       "    <tr>\n",
       "      <th>0</th>\n",
       "      <td>Male</td>\n",
       "      <td>44</td>\n",
       "      <td>1</td>\n",
       "      <td>28.0</td>\n",
       "      <td>0</td>\n",
       "      <td>&gt; 2 Years</td>\n",
       "      <td>Yes</td>\n",
       "      <td>40454.0</td>\n",
       "      <td>26.0</td>\n",
       "      <td>217</td>\n",
       "      <td>1</td>\n",
       "    </tr>\n",
       "    <tr>\n",
       "      <th>1</th>\n",
       "      <td>Male</td>\n",
       "      <td>76</td>\n",
       "      <td>1</td>\n",
       "      <td>3.0</td>\n",
       "      <td>0</td>\n",
       "      <td>1-2 Year</td>\n",
       "      <td>No</td>\n",
       "      <td>33536.0</td>\n",
       "      <td>26.0</td>\n",
       "      <td>183</td>\n",
       "      <td>0</td>\n",
       "    </tr>\n",
       "    <tr>\n",
       "      <th>2</th>\n",
       "      <td>Male</td>\n",
       "      <td>47</td>\n",
       "      <td>1</td>\n",
       "      <td>28.0</td>\n",
       "      <td>0</td>\n",
       "      <td>&gt; 2 Years</td>\n",
       "      <td>Yes</td>\n",
       "      <td>38294.0</td>\n",
       "      <td>26.0</td>\n",
       "      <td>27</td>\n",
       "      <td>1</td>\n",
       "    </tr>\n",
       "    <tr>\n",
       "      <th>3</th>\n",
       "      <td>Male</td>\n",
       "      <td>21</td>\n",
       "      <td>1</td>\n",
       "      <td>11.0</td>\n",
       "      <td>1</td>\n",
       "      <td>&lt; 1 Year</td>\n",
       "      <td>No</td>\n",
       "      <td>28619.0</td>\n",
       "      <td>152.0</td>\n",
       "      <td>203</td>\n",
       "      <td>0</td>\n",
       "    </tr>\n",
       "    <tr>\n",
       "      <th>4</th>\n",
       "      <td>Female</td>\n",
       "      <td>29</td>\n",
       "      <td>1</td>\n",
       "      <td>41.0</td>\n",
       "      <td>1</td>\n",
       "      <td>&lt; 1 Year</td>\n",
       "      <td>No</td>\n",
       "      <td>27496.0</td>\n",
       "      <td>152.0</td>\n",
       "      <td>39</td>\n",
       "      <td>0</td>\n",
       "    </tr>\n",
       "    <tr>\n",
       "      <th>...</th>\n",
       "      <td>...</td>\n",
       "      <td>...</td>\n",
       "      <td>...</td>\n",
       "      <td>...</td>\n",
       "      <td>...</td>\n",
       "      <td>...</td>\n",
       "      <td>...</td>\n",
       "      <td>...</td>\n",
       "      <td>...</td>\n",
       "      <td>...</td>\n",
       "      <td>...</td>\n",
       "    </tr>\n",
       "    <tr>\n",
       "      <th>9995</th>\n",
       "      <td>Female</td>\n",
       "      <td>24</td>\n",
       "      <td>1</td>\n",
       "      <td>37.0</td>\n",
       "      <td>1</td>\n",
       "      <td>&lt; 1 Year</td>\n",
       "      <td>No</td>\n",
       "      <td>21243.0</td>\n",
       "      <td>152.0</td>\n",
       "      <td>21</td>\n",
       "      <td>0</td>\n",
       "    </tr>\n",
       "    <tr>\n",
       "      <th>9996</th>\n",
       "      <td>Male</td>\n",
       "      <td>28</td>\n",
       "      <td>1</td>\n",
       "      <td>35.0</td>\n",
       "      <td>1</td>\n",
       "      <td>&lt; 1 Year</td>\n",
       "      <td>No</td>\n",
       "      <td>23589.0</td>\n",
       "      <td>160.0</td>\n",
       "      <td>173</td>\n",
       "      <td>0</td>\n",
       "    </tr>\n",
       "    <tr>\n",
       "      <th>9997</th>\n",
       "      <td>Female</td>\n",
       "      <td>27</td>\n",
       "      <td>1</td>\n",
       "      <td>15.0</td>\n",
       "      <td>0</td>\n",
       "      <td>&lt; 1 Year</td>\n",
       "      <td>Yes</td>\n",
       "      <td>33340.0</td>\n",
       "      <td>152.0</td>\n",
       "      <td>207</td>\n",
       "      <td>0</td>\n",
       "    </tr>\n",
       "    <tr>\n",
       "      <th>9998</th>\n",
       "      <td>Female</td>\n",
       "      <td>28</td>\n",
       "      <td>1</td>\n",
       "      <td>14.0</td>\n",
       "      <td>1</td>\n",
       "      <td>&lt; 1 Year</td>\n",
       "      <td>No</td>\n",
       "      <td>25426.0</td>\n",
       "      <td>152.0</td>\n",
       "      <td>247</td>\n",
       "      <td>0</td>\n",
       "    </tr>\n",
       "    <tr>\n",
       "      <th>9999</th>\n",
       "      <td>Female</td>\n",
       "      <td>25</td>\n",
       "      <td>1</td>\n",
       "      <td>45.0</td>\n",
       "      <td>1</td>\n",
       "      <td>&lt; 1 Year</td>\n",
       "      <td>No</td>\n",
       "      <td>18843.0</td>\n",
       "      <td>152.0</td>\n",
       "      <td>131</td>\n",
       "      <td>0</td>\n",
       "    </tr>\n",
       "  </tbody>\n",
       "</table>\n",
       "<p>10000 rows × 11 columns</p>\n",
       "</div>"
      ],
      "text/plain": [
       "      Gender  Age  Driving_License  Region_Code  Previously_Insured  \\\n",
       "0       Male   44                1         28.0                   0   \n",
       "1       Male   76                1          3.0                   0   \n",
       "2       Male   47                1         28.0                   0   \n",
       "3       Male   21                1         11.0                   1   \n",
       "4     Female   29                1         41.0                   1   \n",
       "...      ...  ...              ...          ...                 ...   \n",
       "9995  Female   24                1         37.0                   1   \n",
       "9996    Male   28                1         35.0                   1   \n",
       "9997  Female   27                1         15.0                   0   \n",
       "9998  Female   28                1         14.0                   1   \n",
       "9999  Female   25                1         45.0                   1   \n",
       "\n",
       "     Vehicle_Age Vehicle_Damage  Annual_Premium  Policy_Sales_Channel  \\\n",
       "0      > 2 Years            Yes         40454.0                  26.0   \n",
       "1       1-2 Year             No         33536.0                  26.0   \n",
       "2      > 2 Years            Yes         38294.0                  26.0   \n",
       "3       < 1 Year             No         28619.0                 152.0   \n",
       "4       < 1 Year             No         27496.0                 152.0   \n",
       "...          ...            ...             ...                   ...   \n",
       "9995    < 1 Year             No         21243.0                 152.0   \n",
       "9996    < 1 Year             No         23589.0                 160.0   \n",
       "9997    < 1 Year            Yes         33340.0                 152.0   \n",
       "9998    < 1 Year             No         25426.0                 152.0   \n",
       "9999    < 1 Year             No         18843.0                 152.0   \n",
       "\n",
       "      Vintage  Response  \n",
       "0         217         1  \n",
       "1         183         0  \n",
       "2          27         1  \n",
       "3         203         0  \n",
       "4          39         0  \n",
       "...       ...       ...  \n",
       "9995       21         0  \n",
       "9996      173         0  \n",
       "9997      207         0  \n",
       "9998      247         0  \n",
       "9999      131         0  \n",
       "\n",
       "[10000 rows x 11 columns]"
      ]
     },
     "execution_count": 104,
     "metadata": {},
     "output_type": "execute_result"
    }
   ],
   "source": [
    "data = pd.read_csv('vehicle_insurance.csv')\n",
    "\n",
    "data"
   ]
  },
  {
   "cell_type": "code",
   "execution_count": 105,
   "id": "2ad44339-0d81-4a5c-846f-26540b8d3394",
   "metadata": {},
   "outputs": [
    {
     "data": {
      "text/plain": [
       "0    8753\n",
       "1    1247\n",
       "Name: Response, dtype: int64"
      ]
     },
     "execution_count": 105,
     "metadata": {},
     "output_type": "execute_result"
    }
   ],
   "source": [
    "data.Response.value_counts()"
   ]
  },
  {
   "cell_type": "markdown",
   "id": "aee745df",
   "metadata": {},
   "source": [
    "**Задание 0.** Проведите небольшой EDA. Посмотрите на распределения некоторых колонок, на матрицу корреляций. Также проверьте баланс классов и посмотрите на распределение возраста транспортного средства в зависимости от response. \\\n",
    "Закодируйте признаки типа `object` с помощью `one-hot` кодирования.\n",
    "\n",
    "P.S. некоторые не `object`колонки по смыслу очевидно являются категориальными. Так как мы будем строить ансамбли на основе деревьев, их можно оставить в первоначальном виде."
   ]
  },
  {
   "cell_type": "code",
   "execution_count": 106,
   "id": "feae1c60-1c6e-4caf-83e4-da17d8321fd8",
   "metadata": {},
   "outputs": [],
   "source": [
    "from sklearn.compose import ColumnTransformer\n",
    "from sklearn.pipeline import Pipeline\n",
    "\n"
   ]
  },
  {
   "cell_type": "code",
   "execution_count": 130,
   "id": "fe8b3e42",
   "metadata": {},
   "outputs": [],
   "source": [
    "### Your code is here\n",
    "from sklearn.preprocessing import OneHotEncoder\n",
    "# cols_ohe = ['Gender', 'Vehicle_Age', 'Vehicle_Damage']\n",
    "cols_ohe = data.select_dtypes('object').columns\n",
    "ct = ColumnTransformer([\n",
    "    ('ohe', OneHotEncoder(drop='first', sparse=False), cols_ohe),\n",
    "], remainder = 'passthrough')"
   ]
  },
  {
   "cell_type": "code",
   "execution_count": 108,
   "id": "96de0f17-e0d6-46e8-bb77-21d031ed6a97",
   "metadata": {
    "tags": []
   },
   "outputs": [
    {
     "data": {
      "text/html": [
       "<style type=\"text/css\">\n",
       "#T_acd9a_row0_col0, #T_acd9a_row1_col1, #T_acd9a_row2_col2, #T_acd9a_row3_col3, #T_acd9a_row4_col4, #T_acd9a_row5_col5, #T_acd9a_row6_col6, #T_acd9a_row7_col7 {\n",
       "  background-color: #4479bb;\n",
       "  color: #f1f1f1;\n",
       "}\n",
       "#T_acd9a_row0_col1 {\n",
       "  background-color: #e8aeba;\n",
       "  color: #000000;\n",
       "}\n",
       "#T_acd9a_row0_col2 {\n",
       "  background-color: #ecc8cf;\n",
       "  color: #000000;\n",
       "}\n",
       "#T_acd9a_row0_col3 {\n",
       "  background-color: #e28497;\n",
       "  color: #f1f1f1;\n",
       "}\n",
       "#T_acd9a_row0_col4 {\n",
       "  background-color: #eed3d8;\n",
       "  color: #000000;\n",
       "}\n",
       "#T_acd9a_row0_col5, #T_acd9a_row1_col0, #T_acd9a_row2_col5, #T_acd9a_row3_col7, #T_acd9a_row4_col5, #T_acd9a_row5_col0, #T_acd9a_row6_col2, #T_acd9a_row6_col4, #T_acd9a_row6_col5, #T_acd9a_row6_col7, #T_acd9a_row7_col3 {\n",
       "  background-color: #d73c5b;\n",
       "  color: #f1f1f1;\n",
       "}\n",
       "#T_acd9a_row0_col6 {\n",
       "  background-color: #ebc1c9;\n",
       "  color: #000000;\n",
       "}\n",
       "#T_acd9a_row0_col7 {\n",
       "  background-color: #efdcdf;\n",
       "  color: #000000;\n",
       "}\n",
       "#T_acd9a_row1_col2 {\n",
       "  background-color: #db5872;\n",
       "  color: #f1f1f1;\n",
       "}\n",
       "#T_acd9a_row1_col3, #T_acd9a_row4_col1 {\n",
       "  background-color: #dc5e77;\n",
       "  color: #f1f1f1;\n",
       "}\n",
       "#T_acd9a_row1_col4 {\n",
       "  background-color: #da516c;\n",
       "  color: #f1f1f1;\n",
       "}\n",
       "#T_acd9a_row1_col5 {\n",
       "  background-color: #dd657d;\n",
       "  color: #f1f1f1;\n",
       "}\n",
       "#T_acd9a_row1_col6 {\n",
       "  background-color: #db5771;\n",
       "  color: #f1f1f1;\n",
       "}\n",
       "#T_acd9a_row1_col7 {\n",
       "  background-color: #dc5973;\n",
       "  color: #f1f1f1;\n",
       "}\n",
       "#T_acd9a_row2_col0 {\n",
       "  background-color: #db546f;\n",
       "  color: #f1f1f1;\n",
       "}\n",
       "#T_acd9a_row2_col1 {\n",
       "  background-color: #d94a67;\n",
       "  color: #f1f1f1;\n",
       "}\n",
       "#T_acd9a_row2_col3 {\n",
       "  background-color: #d8415f;\n",
       "  color: #f1f1f1;\n",
       "}\n",
       "#T_acd9a_row2_col4 {\n",
       "  background-color: #d84462;\n",
       "  color: #f1f1f1;\n",
       "}\n",
       "#T_acd9a_row2_col6, #T_acd9a_row6_col3 {\n",
       "  background-color: #d94663;\n",
       "  color: #f1f1f1;\n",
       "}\n",
       "#T_acd9a_row2_col7 {\n",
       "  background-color: #da4d69;\n",
       "  color: #f1f1f1;\n",
       "}\n",
       "#T_acd9a_row3_col0 {\n",
       "  background-color: #da4e6a;\n",
       "  color: #f1f1f1;\n",
       "}\n",
       "#T_acd9a_row3_col1 {\n",
       "  background-color: #e69caa;\n",
       "  color: #000000;\n",
       "}\n",
       "#T_acd9a_row3_col2 {\n",
       "  background-color: #e48fa0;\n",
       "  color: #f1f1f1;\n",
       "}\n",
       "#T_acd9a_row3_col4 {\n",
       "  background-color: #e595a5;\n",
       "  color: #000000;\n",
       "}\n",
       "#T_acd9a_row3_col5 {\n",
       "  background-color: #eed4d9;\n",
       "  color: #000000;\n",
       "}\n",
       "#T_acd9a_row3_col6 {\n",
       "  background-color: #e69dab;\n",
       "  color: #000000;\n",
       "}\n",
       "#T_acd9a_row4_col0 {\n",
       "  background-color: #e17d91;\n",
       "  color: #f1f1f1;\n",
       "}\n",
       "#T_acd9a_row4_col2 {\n",
       "  background-color: #dd5f78;\n",
       "  color: #f1f1f1;\n",
       "}\n",
       "#T_acd9a_row4_col3 {\n",
       "  background-color: #dd627b;\n",
       "  color: #f1f1f1;\n",
       "}\n",
       "#T_acd9a_row4_col6 {\n",
       "  background-color: #dd6179;\n",
       "  color: #f1f1f1;\n",
       "}\n",
       "#T_acd9a_row4_col7, #T_acd9a_row7_col5 {\n",
       "  background-color: #df6d84;\n",
       "  color: #f1f1f1;\n",
       "}\n",
       "#T_acd9a_row5_col1 {\n",
       "  background-color: #edcad1;\n",
       "  color: #000000;\n",
       "}\n",
       "#T_acd9a_row5_col2 {\n",
       "  background-color: #eab8c2;\n",
       "  color: #000000;\n",
       "}\n",
       "#T_acd9a_row5_col3 {\n",
       "  background-color: #eeeff2;\n",
       "  color: #000000;\n",
       "}\n",
       "#T_acd9a_row5_col4 {\n",
       "  background-color: #e7a4b1;\n",
       "  color: #000000;\n",
       "}\n",
       "#T_acd9a_row5_col6 {\n",
       "  background-color: #ebbfc8;\n",
       "  color: #000000;\n",
       "}\n",
       "#T_acd9a_row5_col7, #T_acd9a_row7_col4 {\n",
       "  background-color: #e69ead;\n",
       "  color: #000000;\n",
       "}\n",
       "#T_acd9a_row6_col0, #T_acd9a_row6_col1 {\n",
       "  background-color: #d83e5d;\n",
       "  color: #f1f1f1;\n",
       "}\n",
       "#T_acd9a_row7_col0 {\n",
       "  background-color: #e9b5bf;\n",
       "  color: #000000;\n",
       "}\n",
       "#T_acd9a_row7_col1 {\n",
       "  background-color: #e59aa9;\n",
       "  color: #000000;\n",
       "}\n",
       "#T_acd9a_row7_col2 {\n",
       "  background-color: #e599a8;\n",
       "  color: #000000;\n",
       "}\n",
       "#T_acd9a_row7_col6 {\n",
       "  background-color: #e494a4;\n",
       "  color: #f1f1f1;\n",
       "}\n",
       "</style>\n",
       "<table id=\"T_acd9a\">\n",
       "  <thead>\n",
       "    <tr>\n",
       "      <th class=\"blank level0\" >&nbsp;</th>\n",
       "      <th id=\"T_acd9a_level0_col0\" class=\"col_heading level0 col0\" >Age</th>\n",
       "      <th id=\"T_acd9a_level0_col1\" class=\"col_heading level0 col1\" >Driving_License</th>\n",
       "      <th id=\"T_acd9a_level0_col2\" class=\"col_heading level0 col2\" >Region_Code</th>\n",
       "      <th id=\"T_acd9a_level0_col3\" class=\"col_heading level0 col3\" >Previously_Insured</th>\n",
       "      <th id=\"T_acd9a_level0_col4\" class=\"col_heading level0 col4\" >Annual_Premium</th>\n",
       "      <th id=\"T_acd9a_level0_col5\" class=\"col_heading level0 col5\" >Policy_Sales_Channel</th>\n",
       "      <th id=\"T_acd9a_level0_col6\" class=\"col_heading level0 col6\" >Vintage</th>\n",
       "      <th id=\"T_acd9a_level0_col7\" class=\"col_heading level0 col7\" >Response</th>\n",
       "    </tr>\n",
       "  </thead>\n",
       "  <tbody>\n",
       "    <tr>\n",
       "      <th id=\"T_acd9a_level0_row0\" class=\"row_heading level0 row0\" >Age</th>\n",
       "      <td id=\"T_acd9a_row0_col0\" class=\"data row0 col0\" >1.000000</td>\n",
       "      <td id=\"T_acd9a_row0_col1\" class=\"data row0 col1\" >-0.081323</td>\n",
       "      <td id=\"T_acd9a_row0_col2\" class=\"data row0 col2\" >0.030638</td>\n",
       "      <td id=\"T_acd9a_row0_col3\" class=\"data row0 col3\" >-0.261456</td>\n",
       "      <td id=\"T_acd9a_row0_col4\" class=\"data row0 col4\" >0.081564</td>\n",
       "      <td id=\"T_acd9a_row0_col5\" class=\"data row0 col5\" >-0.576066</td>\n",
       "      <td id=\"T_acd9a_row0_col6\" class=\"data row0 col6\" >0.000030</td>\n",
       "      <td id=\"T_acd9a_row0_col7\" class=\"data row0 col7\" >0.113888</td>\n",
       "    </tr>\n",
       "    <tr>\n",
       "      <th id=\"T_acd9a_level0_row1\" class=\"row_heading level0 row1\" >Driving_License</th>\n",
       "      <td id=\"T_acd9a_row1_col0\" class=\"data row1 col0\" >-0.081323</td>\n",
       "      <td id=\"T_acd9a_row1_col1\" class=\"data row1 col1\" >1.000000</td>\n",
       "      <td id=\"T_acd9a_row1_col2\" class=\"data row1 col2\" >0.004926</td>\n",
       "      <td id=\"T_acd9a_row1_col3\" class=\"data row1 col3\" >0.020464</td>\n",
       "      <td id=\"T_acd9a_row1_col4\" class=\"data row1 col4\" >-0.014338</td>\n",
       "      <td id=\"T_acd9a_row1_col5\" class=\"data row1 col5\" >0.044335</td>\n",
       "      <td id=\"T_acd9a_row1_col6\" class=\"data row1 col6\" >0.002704</td>\n",
       "      <td id=\"T_acd9a_row1_col7\" class=\"data row1 col7\" >0.011263</td>\n",
       "    </tr>\n",
       "    <tr>\n",
       "      <th id=\"T_acd9a_level0_row2\" class=\"row_heading level0 row2\" >Region_Code</th>\n",
       "      <td id=\"T_acd9a_row2_col0\" class=\"data row2 col0\" >0.030638</td>\n",
       "      <td id=\"T_acd9a_row2_col1\" class=\"data row2 col1\" >0.004926</td>\n",
       "      <td id=\"T_acd9a_row2_col2\" class=\"data row2 col2\" >1.000000</td>\n",
       "      <td id=\"T_acd9a_row2_col3\" class=\"data row2 col3\" >-0.021270</td>\n",
       "      <td id=\"T_acd9a_row2_col4\" class=\"data row2 col4\" >-0.012213</td>\n",
       "      <td id=\"T_acd9a_row2_col5\" class=\"data row2 col5\" >-0.039733</td>\n",
       "      <td id=\"T_acd9a_row2_col6\" class=\"data row2 col6\" >-0.008527</td>\n",
       "      <td id=\"T_acd9a_row2_col7\" class=\"data row2 col7\" >0.010230</td>\n",
       "    </tr>\n",
       "    <tr>\n",
       "      <th id=\"T_acd9a_level0_row3\" class=\"row_heading level0 row3\" >Previously_Insured</th>\n",
       "      <td id=\"T_acd9a_row3_col0\" class=\"data row3 col0\" >-0.261456</td>\n",
       "      <td id=\"T_acd9a_row3_col1\" class=\"data row3 col1\" >0.020464</td>\n",
       "      <td id=\"T_acd9a_row3_col2\" class=\"data row3 col2\" >-0.021270</td>\n",
       "      <td id=\"T_acd9a_row3_col3\" class=\"data row3 col3\" >1.000000</td>\n",
       "      <td id=\"T_acd9a_row3_col4\" class=\"data row3 col4\" >-0.005164</td>\n",
       "      <td id=\"T_acd9a_row3_col5\" class=\"data row3 col5\" >0.224719</td>\n",
       "      <td id=\"T_acd9a_row3_col6\" class=\"data row3 col6\" >0.022350</td>\n",
       "      <td id=\"T_acd9a_row3_col7\" class=\"data row3 col7\" >-0.333502</td>\n",
       "    </tr>\n",
       "    <tr>\n",
       "      <th id=\"T_acd9a_level0_row4\" class=\"row_heading level0 row4\" >Annual_Premium</th>\n",
       "      <td id=\"T_acd9a_row4_col0\" class=\"data row4 col0\" >0.081564</td>\n",
       "      <td id=\"T_acd9a_row4_col1\" class=\"data row4 col1\" >-0.014338</td>\n",
       "      <td id=\"T_acd9a_row4_col2\" class=\"data row4 col2\" >-0.012213</td>\n",
       "      <td id=\"T_acd9a_row4_col3\" class=\"data row4 col3\" >-0.005164</td>\n",
       "      <td id=\"T_acd9a_row4_col4\" class=\"data row4 col4\" >1.000000</td>\n",
       "      <td id=\"T_acd9a_row4_col5\" class=\"data row4 col5\" >-0.123851</td>\n",
       "      <td id=\"T_acd9a_row4_col6\" class=\"data row4 col6\" >-0.008878</td>\n",
       "      <td id=\"T_acd9a_row4_col7\" class=\"data row4 col7\" >0.029839</td>\n",
       "    </tr>\n",
       "    <tr>\n",
       "      <th id=\"T_acd9a_level0_row5\" class=\"row_heading level0 row5\" >Policy_Sales_Channel</th>\n",
       "      <td id=\"T_acd9a_row5_col0\" class=\"data row5 col0\" >-0.576066</td>\n",
       "      <td id=\"T_acd9a_row5_col1\" class=\"data row5 col1\" >0.044335</td>\n",
       "      <td id=\"T_acd9a_row5_col2\" class=\"data row5 col2\" >-0.039733</td>\n",
       "      <td id=\"T_acd9a_row5_col3\" class=\"data row5 col3\" >0.224719</td>\n",
       "      <td id=\"T_acd9a_row5_col4\" class=\"data row5 col4\" >-0.123851</td>\n",
       "      <td id=\"T_acd9a_row5_col5\" class=\"data row5 col5\" >1.000000</td>\n",
       "      <td id=\"T_acd9a_row5_col6\" class=\"data row5 col6\" >-0.006131</td>\n",
       "      <td id=\"T_acd9a_row5_col7\" class=\"data row5 col7\" >-0.146421</td>\n",
       "    </tr>\n",
       "    <tr>\n",
       "      <th id=\"T_acd9a_level0_row6\" class=\"row_heading level0 row6\" >Vintage</th>\n",
       "      <td id=\"T_acd9a_row6_col0\" class=\"data row6 col0\" >0.000030</td>\n",
       "      <td id=\"T_acd9a_row6_col1\" class=\"data row6 col1\" >0.002704</td>\n",
       "      <td id=\"T_acd9a_row6_col2\" class=\"data row6 col2\" >-0.008527</td>\n",
       "      <td id=\"T_acd9a_row6_col3\" class=\"data row6 col3\" >0.022350</td>\n",
       "      <td id=\"T_acd9a_row6_col4\" class=\"data row6 col4\" >-0.008878</td>\n",
       "      <td id=\"T_acd9a_row6_col5\" class=\"data row6 col5\" >-0.006131</td>\n",
       "      <td id=\"T_acd9a_row6_col6\" class=\"data row6 col6\" >1.000000</td>\n",
       "      <td id=\"T_acd9a_row6_col7\" class=\"data row6 col7\" >-0.007187</td>\n",
       "    </tr>\n",
       "    <tr>\n",
       "      <th id=\"T_acd9a_level0_row7\" class=\"row_heading level0 row7\" >Response</th>\n",
       "      <td id=\"T_acd9a_row7_col0\" class=\"data row7 col0\" >0.113888</td>\n",
       "      <td id=\"T_acd9a_row7_col1\" class=\"data row7 col1\" >0.011263</td>\n",
       "      <td id=\"T_acd9a_row7_col2\" class=\"data row7 col2\" >0.010230</td>\n",
       "      <td id=\"T_acd9a_row7_col3\" class=\"data row7 col3\" >-0.333502</td>\n",
       "      <td id=\"T_acd9a_row7_col4\" class=\"data row7 col4\" >0.029839</td>\n",
       "      <td id=\"T_acd9a_row7_col5\" class=\"data row7 col5\" >-0.146421</td>\n",
       "      <td id=\"T_acd9a_row7_col6\" class=\"data row7 col6\" >-0.007187</td>\n",
       "      <td id=\"T_acd9a_row7_col7\" class=\"data row7 col7\" >1.000000</td>\n",
       "    </tr>\n",
       "  </tbody>\n",
       "</table>\n"
      ],
      "text/plain": [
       "<pandas.io.formats.style.Styler at 0x7f21b1848b50>"
      ]
     },
     "execution_count": 108,
     "metadata": {},
     "output_type": "execute_result"
    }
   ],
   "source": [
    "import seaborn as sns\n",
    "data.corr().style.background_gradient(sns.diverging_palette(5, 250, as_cmap=True), axis=1)"
   ]
  },
  {
   "cell_type": "markdown",
   "id": "cf7d6a0a",
   "metadata": {},
   "source": [
    "**Задание 1.** Обучите градиентный бустинг из sklearn на данных и замерьте accuracy и f1-score на тестовой выборке. В качестве параметров ансамбля установите `learning_rate = 1`, `random_state = 1`, `n_estimators = 100`. Изобразите ROC-кривую и посчитайте AUC, оцените качество классификации. (2б)\n",
    "\n",
    "P.S. для всех прочих моделей в этом домашнем задании тоже фиксируйте `random_state = 1`. Как думаете, что может быть случайного в процедуре обучения градиентного бустинга?"
   ]
  },
  {
   "cell_type": "code",
   "execution_count": 131,
   "id": "cea2f839",
   "metadata": {},
   "outputs": [],
   "source": [
    "from sklearn.model_selection import train_test_split\n",
    "from sklearn.metrics import classification_report, f1_score, roc_curve, auc, RocCurveDisplay, roc_auc_score\n",
    "\n",
    "X = data.drop('Response', axis=1)\n",
    "y = data['Response']\n",
    "\n",
    "X_train, X_test, y_train, y_test = train_test_split(X, y,\n",
    "                                                    random_state=0,\n",
    "                                                    shuffle=True,\n",
    "                                                    test_size=0.2)"
   ]
  },
  {
   "cell_type": "code",
   "execution_count": 148,
   "id": "cf0789ff",
   "metadata": {},
   "outputs": [],
   "source": [
    "from sklearn.ensemble import GradientBoostingClassifier\n",
    "\n",
    "pipe = Pipeline([\n",
    "    ('ct', ct),\n",
    "    ('model', GradientBoostingClassifier(\n",
    "        learning_rate=1,\n",
    "        random_state=1,\n",
    "        n_estimators=100\n",
    "    ))\n",
    "])\n",
    "### Your code is here\n",
    "pipe.fit(X_train, y_train)\n",
    "y_pred_test = pipe.predict(X_test)\n",
    "y_proba = pipe.predict_proba(X_test)"
   ]
  },
  {
   "cell_type": "code",
   "execution_count": 150,
   "id": "7345fb46-f65d-4085-ba14-c21d51797130",
   "metadata": {},
   "outputs": [
    {
     "name": "stdout",
     "output_type": "stream",
     "text": [
      "              precision    recall  f1-score   support\n",
      "\n",
      "           0      0.904     0.931     0.917      1770\n",
      "           1      0.311     0.239     0.270       230\n",
      "\n",
      "    accuracy                          0.852      2000\n",
      "   macro avg      0.607     0.585     0.594      2000\n",
      "weighted avg      0.836     0.852     0.843      2000\n",
      "\n"
     ]
    }
   ],
   "source": [
    "print(classification_report(y_test, y_pred_test, digits=3))"
   ]
  },
  {
   "cell_type": "code",
   "execution_count": 152,
   "id": "41b45900-a9fc-4c38-aeb4-ec7646814c0c",
   "metadata": {},
   "outputs": [
    {
     "data": {
      "text/plain": [
       "0.27"
      ]
     },
     "execution_count": 152,
     "metadata": {},
     "output_type": "execute_result"
    }
   ],
   "source": [
    "round(f1_score(y_test, y_pred_test), 3)"
   ]
  },
  {
   "cell_type": "code",
   "execution_count": 158,
   "id": "04cab11a-cf1d-4a51-9a3a-6082367fadd8",
   "metadata": {
    "tags": []
   },
   "outputs": [
    {
     "name": "stdout",
     "output_type": "stream",
     "text": [
      "0.828\n"
     ]
    },
    {
     "data": {
      "text/plain": [
       "<sklearn.metrics._plot.roc_curve.RocCurveDisplay at 0x7f21b15a1bb0>"
      ]
     },
     "execution_count": 158,
     "metadata": {},
     "output_type": "execute_result"
    },
    {
     "data": {
      "image/png": "[encoded data removed]",
      "text/plain": [
       "<Figure size 576x360 with 1 Axes>"
      ]
     },
     "metadata": {
      "needs_background": "light"
     },
     "output_type": "display_data"
    }
   ],
   "source": [
    "fpr, tpr, thresh = roc_curve(y_test, y_proba[:, 1:])\n",
    "print(round(auc(fpr, tpr) , 3))\n",
    "RocCurveDisplay(fpr=fpr, tpr=tpr).plot()"
   ]
  },
  {
   "cell_type": "code",
   "execution_count": 157,
   "id": "fdf9704c-6bd8-40f4-a16a-b21746ba30b9",
   "metadata": {},
   "outputs": [
    {
     "data": {
      "text/plain": [
       "array([[9.98482679e-01, 1.51732090e-03],\n",
       "       [5.86529124e-01, 4.13470876e-01],\n",
       "       [9.99872894e-01, 1.27105663e-04],\n",
       "       ...,\n",
       "       [6.94821377e-01, 3.05178623e-01],\n",
       "       [5.47781708e-01, 4.52218292e-01],\n",
       "       [9.99424885e-01, 5.75114509e-04]])"
      ]
     },
     "execution_count": 157,
     "metadata": {},
     "output_type": "execute_result"
    }
   ],
   "source": [
    "y_proba"
   ]
  },
  {
   "cell_type": "code",
   "execution_count": 141,
   "id": "f7f22d66-21b8-4764-90b2-b401b6c0a661",
   "metadata": {},
   "outputs": [
    {
     "data": {
      "text/plain": [
       "array([0.00479838, 0.0157812 , 0.01644749, 0.33280524, 0.20066166,\n",
       "       0.00095635, 0.04120504, 0.02817371, 0.1765335 , 0.08334669,\n",
       "       0.09929075])"
      ]
     },
     "execution_count": 141,
     "metadata": {},
     "output_type": "execute_result"
    }
   ],
   "source": [
    "pipe[1].feature_importances_"
   ]
  },
  {
   "cell_type": "markdown",
   "id": "bf5933b7",
   "metadata": {},
   "source": [
    "**Задание 2.** Переберите параметры `n_estimators` и `learning_rate` по двумерной сетке. При обучении в цикле сразу считайте f1-score на тестовой выборке и сохраняйте результат в матрицу. Для какого алгоритма качество окажется максимальным?\n",
    "\n",
    "Постройте кривые для метрики f1-score в зависимости от числа шагов для нескольких learning_rate. Изобразите heatmap полученной матрицы. Сделайте вывод, как количество шагов влияет на качество совместно с различной скоростью обучения? (2б)\n",
    "\n",
    "P.S. для подсчета f1-score передайте в функцию параметр `average='weighted'`, чтобы учитывался еще и баланс классов (вспомните микро/макро-усреднения)."
   ]
  },
  {
   "cell_type": "code",
   "execution_count": 160,
   "id": "995a1301",
   "metadata": {},
   "outputs": [],
   "source": [
    "### Задаем сетку параметров\n",
    "\n",
    "n_estimators_list = [5, 10, 20, 50, 100, 200, 700, 1000]\n",
    "learning_rate_list = [1, 0.1, 0.01]"
   ]
  },
  {
   "cell_type": "code",
   "execution_count": 197,
   "id": "281d3b04",
   "metadata": {
    "scrolled": true
   },
   "outputs": [],
   "source": [
    "### Your code is here\n",
    "from sklearn.model_selection import GridSearchCV\n",
    "\n",
    "pipes = []\n",
    "for n_estimators in n_estimators_list:\n",
    "    for learning_rate in learning_rate_list:\n",
    "        # print(n_estimators, learning_rate)\n",
    "        pipe = Pipeline([\n",
    "            ('ct', ct),\n",
    "            ('gbc', GradientBoostingClassifier(random_state=1,n_estimators=n_estimators, learning_rate=learning_rate,max_depth=5))\n",
    "        ])\n",
    "        pipe.fit(X_train, y_train)\n",
    "        pipes.append(pipe)"
   ]
  },
  {
   "cell_type": "code",
   "execution_count": 199,
   "id": "a30bf661-acfc-4f28-bb96-94df8c995585",
   "metadata": {},
   "outputs": [],
   "source": [
    "from sklearn.metrics import f1_score\n",
    "\n",
    "scores = []\n",
    "for p in pipes:\n",
    "    n_estimators = p.steps[1][1].n_estimators\n",
    "    learning_rate = p.steps[1][1].learning_rate\n",
    "    score = f1_score(y_test, p.predict(X_test), average='weighted')\n",
    "    scores.append((n_estimators, learning_rate, score))\n",
    "    \n",
    "scores = pd.DataFrame(scores, columns=['n_estimators', 'learning_rate', 'score'])"
   ]
  },
  {
   "cell_type": "code",
   "execution_count": 200,
   "id": "3060b52e-e9b0-4aac-b004-124919244409",
   "metadata": {},
   "outputs": [
    {
     "data": {
      "text/plain": [
       "<AxesSubplot:xlabel='learning_rate', ylabel='n_estimators'>"
      ]
     },
     "execution_count": 200,
     "metadata": {},
     "output_type": "execute_result"
    },
    {
     "data": {
      "image/png": "[encoded data removed]",
      "text/plain": [
       "<Figure size 576x360 with 2 Axes>"
      ]
     },
     "metadata": {
      "needs_background": "light"
     },
     "output_type": "display_data"
    }
   ],
   "source": [
    "scores = pd.DataFrame(scores, columns=['n_estimators', 'learning_rate', 'score'])\n",
    "result = scores.pivot(index='n_estimators', columns='learning_rate', values='score')\n",
    "\n",
    "sns.heatmap(result, annot=True, fmt=\"g\", cmap='viridis')"
   ]
  },
  {
   "cell_type": "code",
   "execution_count": 201,
   "id": "483457c9-cc6b-4093-a073-138d057ff1d3",
   "metadata": {},
   "outputs": [
    {
     "data": {
      "text/html": [
       "<div>\n",
       "<style scoped>\n",
       "    .dataframe tbody tr th:only-of-type {\n",
       "        vertical-align: middle;\n",
       "    }\n",
       "\n",
       "    .dataframe tbody tr th {\n",
       "        vertical-align: top;\n",
       "    }\n",
       "\n",
       "    .dataframe thead th {\n",
       "        text-align: right;\n",
       "    }\n",
       "</style>\n",
       "<table border=\"1\" class=\"dataframe\">\n",
       "  <thead>\n",
       "    <tr style=\"text-align: right;\">\n",
       "      <th></th>\n",
       "      <th>n_estimators</th>\n",
       "      <th>learning_rate</th>\n",
       "      <th>score</th>\n",
       "    </tr>\n",
       "  </thead>\n",
       "  <tbody>\n",
       "    <tr>\n",
       "      <th>22</th>\n",
       "      <td>1000</td>\n",
       "      <td>0.1</td>\n",
       "      <td>0.845385</td>\n",
       "    </tr>\n",
       "    <tr>\n",
       "      <th>16</th>\n",
       "      <td>200</td>\n",
       "      <td>0.1</td>\n",
       "      <td>0.843731</td>\n",
       "    </tr>\n",
       "    <tr>\n",
       "      <th>19</th>\n",
       "      <td>700</td>\n",
       "      <td>0.1</td>\n",
       "      <td>0.842348</td>\n",
       "    </tr>\n",
       "    <tr>\n",
       "      <th>13</th>\n",
       "      <td>100</td>\n",
       "      <td>0.1</td>\n",
       "      <td>0.837146</td>\n",
       "    </tr>\n",
       "    <tr>\n",
       "      <th>12</th>\n",
       "      <td>100</td>\n",
       "      <td>1.0</td>\n",
       "      <td>0.836817</td>\n",
       "    </tr>\n",
       "  </tbody>\n",
       "</table>\n",
       "</div>"
      ],
      "text/plain": [
       "    n_estimators  learning_rate     score\n",
       "22          1000            0.1  0.845385\n",
       "16           200            0.1  0.843731\n",
       "19           700            0.1  0.842348\n",
       "13           100            0.1  0.837146\n",
       "12           100            1.0  0.836817"
      ]
     },
     "execution_count": 201,
     "metadata": {},
     "output_type": "execute_result"
    }
   ],
   "source": [
    "scores.sort_values('score', ascending=False).head(5)"
   ]
  },
  {
   "cell_type": "markdown",
   "id": "5f9be545",
   "metadata": {},
   "source": [
    "**Задание 3.** Вам потребуется обучить 4 модели и посчитать метрику f1-score на тестовой и обучающей выборках для каждой модели. \n",
    "1. Случайный лес с максимальной глубиной деревьев 5,\n",
    "2. Случайный лес с максимальной глубиной деревьев 5000,\n",
    "3. Градиентный бустинг с максимальной глубиной деревьев 5,\n",
    "4. Градиентный бустинг с максимальной глубиной деревьев 5000.\n",
    "\n",
    "Для каждой модели перебирайте значения `n_estimators`, как в предыдущем задании. Отрисуйте графики зависимости f1-score от количества шагов, используя `average='weighted'` для учёта баланса классов. \n",
    "\n",
    "Если в качестве базовой модели брать неглубокие деревья, то какая модель лучше запоминает обучающую выборку: случайный лес или градиентный бустинг? Какая из них лучше предсказывает на тестовой выборке? Как изменятся ответы, если базовая модель - это глубокое решающее дерево?\n",
    "\n",
    "Подвержен ли переобучению случайный лес и градиентный бустинг? Как это отражается на графиках? (4б)"
   ]
  },
  {
   "cell_type": "code",
   "execution_count": 221,
   "id": "486a8061",
   "metadata": {},
   "outputs": [],
   "source": [
    "from sklearn.ensemble import RandomForestClassifier\n",
    "\n",
    "n_estimators_list = [2, 3, 4, 5, 10, 20, 50, 70, 100, 200, 700, 1000, 2000]\n",
    "\n",
    "rf5 = []\n",
    "for n_estimators in n_estimators_list:\n",
    "    rf = Pipeline([\n",
    "        ('ct', ct),\n",
    "        ('rf', RandomForestClassifier(random_state=1, n_estimators=n_estimators, max_depth=5))\n",
    "    ])\n",
    "    rf.fit(X_train, y_train)\n",
    "    score = f1_score(y_train, rf.predict(X_train), average='weighted')\n",
    "    rf5.append((rf, score, n_estimators))\n",
    "    \n",
    "rf5000 = []\n",
    "for n_estimators in n_estimators_list:\n",
    "    rf = Pipeline([\n",
    "        ('ct', ct),\n",
    "        ('rf', RandomForestClassifier(random_state=1, n_estimators=n_estimators, max_depth=5000))\n",
    "    ])\n",
    "    rf.fit(X_train, y_train)\n",
    "    score = f1_score(y_train, rf.predict(X_train), average='weighted')\n",
    "    rf5000.append((rf, score, n_estimators))\n",
    "\n",
    "gb5 = []\n",
    "for n_estimators in n_estimators_list:\n",
    "    gb = Pipeline([\n",
    "        ('ct', ct),\n",
    "        ('gb', GradientBoostingClassifier(random_state=1, n_estimators=n_estimators, max_depth=5))\n",
    "    ])\n",
    "    gb.fit(X_train, y_train)\n",
    "    score = f1_score(y_train, gb.predict(X_train), average='weighted')\n",
    "    gb5.append((gb, score, n_estimators))\n",
    "    \n",
    "gb5000 = []\n",
    "for n_estimators in n_estimators_list:\n",
    "    gb = Pipeline([\n",
    "        ('ct', ct),\n",
    "        ('gb', GradientBoostingClassifier(random_state=1, n_estimators=n_estimators, max_depth=5000))\n",
    "    ])\n",
    "    gb.fit(X_train, y_train)\n",
    "    score = f1_score(y_train, rf.predict(X_train), average='weighted')\n",
    "    gb5000.append((gb, score, n_estimators))\n",
    "### Your code is here"
   ]
  },
  {
   "cell_type": "code",
   "execution_count": 222,
   "id": "221ed61c-b74c-4185-b156-d634ca6db285",
   "metadata": {
    "tags": []
   },
   "outputs": [
    {
     "data": {
      "image/png": "[encoded data removed]",
      "text/plain": [
       "<Figure size 720x720 with 8 Axes>"
      ]
     },
     "metadata": {
      "needs_background": "light"
     },
     "output_type": "display_data"
    }
   ],
   "source": [
    "import matplotlib.pyplot as plt\n",
    "\n",
    "fig, axs = plt.subplots(2,2, figsize=(10,10))\n",
    "\n",
    "def get_heatmap(ds):\n",
    "    scores = []\n",
    "    for r5 in ds:\n",
    "        max_depth = 5\n",
    "        score = r5[1]\n",
    "        n_estimators = r5[2]\n",
    "        scores.append((max_depth, n_estimators, score))\n",
    "    \n",
    "    scores = pd.DataFrame(scores, columns=['max_depth', 'n_estimators', 'score'])\n",
    "    result = scores.pivot(index='n_estimators', columns='max_depth', values='score')\n",
    "    return result\n",
    "\n",
    "for i, (dd, name) in enumerate([(rf5, 'rf5'), (rf5000, 'rf5000'), (gb5, 'gb5'), (gb5000, 'gb5000')]):\n",
    "    sns.heatmap(get_heatmap(dd), annot=True, fmt=\"g\", cmap='viridis', ax=axs.flat[i])\n",
    "    axs.flat[i].title.set_text(name)"
   ]
  },
  {
   "cell_type": "markdown",
   "id": "9e83fd0d",
   "metadata": {},
   "source": [
    "**Задание 4.** Установите библиотеку `catboost`. Главной особенностью catboost явялется наличие встроенной обработки категориальных признаков. Для каждого категориального столбца вычисляется следующее значение\n",
    "$$\n",
    "avg\\_target = \\dfrac{countInClass + prior}{totalCount + 1},\n",
    "$$\n",
    "* countInClass - количество объектов положительного класса для данной категории **до текущего объекта**,\n",
    "* prior - некоторая константа для числителя, обычно равна доле положительного класса в таргете,\n",
    "* totalCount - количество наблюдаемых категорий вплоть **до текущего** с той же категорией, что и у текущего.\n",
    "\n",
    "Так как первые такие значения будут иметь больший разброс, чем последние, то выборку перемешивают несколько раз и полученные статистики усредняют. \n",
    "В отличие от target encoder подсчитанные значения зависят от наблюдаемой истории, т.е. вычисляются только из наблюдений до них, таким образом не происходит target leakage. \n",
    "\n",
    "Почитать подробнее можно здесь: [Transforming categorical features](https://catboost.ai/en/docs/concepts/algorithm-main-stages_cat-to-numberic)\n",
    "\n",
    "Обучите CatBoostClassifier с дефолтными параметрами. Используйте датасет до  (разбейте на train/test по старой логике с тем же random state'ом). Категориальные колонки передайте в параметр `cat_features` метода `fit`. Catboost сам с ними разберется.\n",
    "\n",
    "Сравните качество с моделью из предыдущего задания. Стало ли лучше?\n",
    "\n",
    "Сравните feature importances в модели из задания 2 и в catboost с помощью соответствующих методов, изобразите их, используя `barplot`. \\\n",
    "Какие признаки стали более важными с новым методом кодирования? (4б)"
   ]
  },
  {
   "cell_type": "code",
   "execution_count": 209,
   "id": "f5fc18d9-8e77-44a9-ad9f-491ef0e36748",
   "metadata": {},
   "outputs": [],
   "source": [
    "%load_ext autoreload\n",
    "%autoreload 2"
   ]
  },
  {
   "cell_type": "code",
   "execution_count": 230,
   "id": "952a0bd7",
   "metadata": {},
   "outputs": [
    {
     "data": {
      "text/plain": [
       "<catboost.core.CatBoostClassifier at 0x7f21ac829400>"
      ]
     },
     "execution_count": 230,
     "metadata": {},
     "output_type": "execute_result"
    }
   ],
   "source": [
    "from catboost import CatBoostClassifier\n",
    "\n",
    "### Your code is here\n",
    "X = data.drop(columns=['Response'])\n",
    "y = data['Response']\n",
    "\n",
    "X_train, X_test, y_train, y_test = train_test_split(X, y,\n",
    "                                                    random_state=0,\n",
    "                                                    shuffle=True,\n",
    "                                                    test_size=0.2)\n",
    "\n",
    "catb = CatBoostClassifier(verbose=0)\n",
    "\n",
    "catb.fit(X_train, y_train,\n",
    "    cat_features=list(X.select_dtypes('object').columns)\n",
    ")"
   ]
  },
  {
   "cell_type": "code",
   "execution_count": 233,
   "id": "4fb6a96f-b8ce-4f14-8321-cecc4a1a39c5",
   "metadata": {},
   "outputs": [
    {
     "data": {
      "text/plain": [
       "array([ 3.1033428 , 11.36658464,  0.03227638,  7.43228013, 27.35891126,\n",
       "        4.74671151, 21.36760853,  9.26128996,  6.2198574 ,  9.11113739])"
      ]
     },
     "execution_count": 233,
     "metadata": {},
     "output_type": "execute_result"
    }
   ],
   "source": [
    "catb.feature_importances_"
   ]
  },
  {
   "cell_type": "code",
   "execution_count": 234,
   "id": "6f1547d0-1d75-4a3c-b422-74f6fd009441",
   "metadata": {},
   "outputs": [
    {
     "data": {
      "text/plain": [
       "Index(['Gender', 'Age', 'Driving_License', 'Region_Code', 'Previously_Insured',\n",
       "       'Vehicle_Age', 'Vehicle_Damage', 'Annual_Premium',\n",
       "       'Policy_Sales_Channel', 'Vintage'],\n",
       "      dtype='object')"
      ]
     },
     "execution_count": 234,
     "metadata": {},
     "output_type": "execute_result"
    }
   ],
   "source": [
    "X.columns"
   ]
  },
  {
   "attachments": {
    "%D0%B8%D0%B7%D0%BE%D0%B1%D1%80%D0%B0%D0%B6%D0%B5%D0%BD%D0%B8%D0%B5-2.png": {
     "image/png": "[encoded data removed]"
    },
    "%D0%B8%D0%B7%D0%BE%D0%B1%D1%80%D0%B0%D0%B6%D0%B5%D0%BD%D0%B8%D0%B5.png": {
     "image/png": "[encoded data removed]"
    }
   },
   "cell_type": "markdown",
   "id": "c261459f",
   "metadata": {},
   "source": [
    "**Задание 5.** Установите библиотеку `lightgbm`. На сегодняшний день это наиболее быстрый метод градиентного бустинга, при этом расходующий небольшое количество оперативной памяти. Достигает он этого за счет построения деревьев вглубь по листьям (leaf-wise), а не по уровням (level-wise), как другие методы, например XGBoost. \n",
    "Более понятно это на картинке:\n",
    "\n",
    "![%D0%B8%D0%B7%D0%BE%D0%B1%D1%80%D0%B0%D0%B6%D0%B5%D0%BD%D0%B8%D0%B5.png](attachment:%D0%B8%D0%B7%D0%BE%D0%B1%D1%80%D0%B0%D0%B6%D0%B5%D0%BD%D0%B8%D0%B5.png)\n",
    "\n",
    "![%D0%B8%D0%B7%D0%BE%D0%B1%D1%80%D0%B0%D0%B6%D0%B5%D0%BD%D0%B8%D0%B5-2.png](attachment:%D0%B8%D0%B7%D0%BE%D0%B1%D1%80%D0%B0%D0%B6%D0%B5%D0%BD%D0%B8%D0%B5-2.png)\n",
    "\n",
    "В то время, как XGBoost за раз разделяет вершины на целом уровне той же глубины, LightGBM разделяет одну вершину за раз. Отсюда прирост в скорости.\n",
    "\n",
    "Обучите `LGBMClassifier` на изначальных(закодированных) данных и добейтесь максимального качества на тестовой выборке, перебрав параметры глубины деревьев, количества шагов, скорости обучения и т.д."
   ]
  },
  {
   "cell_type": "code",
   "execution_count": 241,
   "id": "1ae6f907",
   "metadata": {},
   "outputs": [
    {
     "data": {
      "text/html": [
       "<style>#sk-container-id-14 {color: black;background-color: white;}#sk-container-id-14 pre{padding: 0;}#sk-container-id-14 div.sk-toggleable {background-color: white;}#sk-container-id-14 label.sk-toggleable__label {cursor: pointer;display: block;width: 100%;margin-bottom: 0;padding: 0.3em;box-sizing: border-box;text-align: center;}#sk-container-id-14 label.sk-toggleable__label-arrow:before {content: \"▸\";float: left;margin-right: 0.25em;color: #696969;}#sk-container-id-14 label.sk-toggleable__label-arrow:hover:before {color: black;}#sk-container-id-14 div.sk-estimator:hover label.sk-toggleable__label-arrow:before {color: black;}#sk-container-id-14 div.sk-toggleable__content {max-height: 0;max-width: 0;overflow: hidden;text-align: left;background-color: #f0f8ff;}#sk-container-id-14 div.sk-toggleable__content pre {margin: 0.2em;color: black;border-radius: 0.25em;background-color: #f0f8ff;}#sk-container-id-14 input.sk-toggleable__control:checked~div.sk-toggleable__content {max-height: 200px;max-width: 100%;overflow: auto;}#sk-container-id-14 input.sk-toggleable__control:checked~label.sk-toggleable__label-arrow:before {content: \"▾\";}#sk-container-id-14 div.sk-estimator input.sk-toggleable__control:checked~label.sk-toggleable__label {background-color: #d4ebff;}#sk-container-id-14 div.sk-label input.sk-toggleable__control:checked~label.sk-toggleable__label {background-color: #d4ebff;}#sk-container-id-14 input.sk-hidden--visually {border: 0;clip: rect(1px 1px 1px 1px);clip: rect(1px, 1px, 1px, 1px);height: 1px;margin: -1px;overflow: hidden;padding: 0;position: absolute;width: 1px;}#sk-container-id-14 div.sk-estimator {font-family: monospace;background-color: #f0f8ff;border: 1px dotted black;border-radius: 0.25em;box-sizing: border-box;margin-bottom: 0.5em;}#sk-container-id-14 div.sk-estimator:hover {background-color: #d4ebff;}#sk-container-id-14 div.sk-parallel-item::after {content: \"\";width: 100%;border-bottom: 1px solid gray;flex-grow: 1;}#sk-container-id-14 div.sk-label:hover label.sk-toggleable__label {background-color: #d4ebff;}#sk-container-id-14 div.sk-serial::before {content: \"\";position: absolute;border-left: 1px solid gray;box-sizing: border-box;top: 0;bottom: 0;left: 50%;z-index: 0;}#sk-container-id-14 div.sk-serial {display: flex;flex-direction: column;align-items: center;background-color: white;padding-right: 0.2em;padding-left: 0.2em;position: relative;}#sk-container-id-14 div.sk-item {position: relative;z-index: 1;}#sk-container-id-14 div.sk-parallel {display: flex;align-items: stretch;justify-content: center;background-color: white;position: relative;}#sk-container-id-14 div.sk-item::before, #sk-container-id-14 div.sk-parallel-item::before {content: \"\";position: absolute;border-left: 1px solid gray;box-sizing: border-box;top: 0;bottom: 0;left: 50%;z-index: -1;}#sk-container-id-14 div.sk-parallel-item {display: flex;flex-direction: column;z-index: 1;position: relative;background-color: white;}#sk-container-id-14 div.sk-parallel-item:first-child::after {align-self: flex-end;width: 50%;}#sk-container-id-14 div.sk-parallel-item:last-child::after {align-self: flex-start;width: 50%;}#sk-container-id-14 div.sk-parallel-item:only-child::after {width: 0;}#sk-container-id-14 div.sk-dashed-wrapped {border: 1px dashed gray;margin: 0 0.4em 0.5em 0.4em;box-sizing: border-box;padding-bottom: 0.4em;background-color: white;}#sk-container-id-14 div.sk-label label {font-family: monospace;font-weight: bold;display: inline-block;line-height: 1.2em;}#sk-container-id-14 div.sk-label-container {text-align: center;}#sk-container-id-14 div.sk-container {/* jupyter's `normalize.less` sets `[hidden] { display: none; }` but bootstrap.min.css set `[hidden] { display: none !important; }` so we also need the `!important` here to be able to override the default hidden behavior on the sphinx rendered scikit-learn.org. See: https://github.com/scikit-learn/scikit-learn/issues/21755 */display: inline-block !important;position: relative;}#sk-container-id-14 div.sk-text-repr-fallback {display: none;}</style><div id=\"sk-container-id-14\" class=\"sk-top-container\"><div class=\"sk-text-repr-fallback\"><pre>GridSearchCV(estimator=Pipeline(steps=[(&#x27;ct&#x27;,\n",
       "                                        ColumnTransformer(remainder=&#x27;passthrough&#x27;,\n",
       "                                                          transformers=[(&#x27;ohe&#x27;,\n",
       "                                                                         OneHotEncoder(drop=&#x27;first&#x27;,\n",
       "                                                                                       sparse=False),\n",
       "                                                                         [&#x27;Gender&#x27;,\n",
       "                                                                          &#x27;Vehicle_Age&#x27;,\n",
       "                                                                          &#x27;Vehicle_Damage&#x27;])])),\n",
       "                                       (&#x27;lgbm&#x27;, LGBMClassifier())]),\n",
       "             param_grid={&#x27;lgbm__learning_rate&#x27;: [0.1, 0.01, 0.001],\n",
       "                         &#x27;lgbm__max_depth&#x27;: [2, 3, 5, 100],\n",
       "                         &#x27;lgbm__n_estimators&#x27;: [100, 500, 1000, 2000]})</pre><b>In a Jupyter environment, please rerun this cell to show the HTML representation or trust the notebook. <br />On GitHub, the HTML representation is unable to render, please try loading this page with nbviewer.org.</b></div><div class=\"sk-container\" hidden><div class=\"sk-item sk-dashed-wrapped\"><div class=\"sk-label-container\"><div class=\"sk-label sk-toggleable\"><input class=\"sk-toggleable__control sk-hidden--visually\" id=\"sk-estimator-id-55\" type=\"checkbox\" ><label for=\"sk-estimator-id-55\" class=\"sk-toggleable__label sk-toggleable__label-arrow\">GridSearchCV</label><div class=\"sk-toggleable__content\"><pre>GridSearchCV(estimator=Pipeline(steps=[(&#x27;ct&#x27;,\n",
       "                                        ColumnTransformer(remainder=&#x27;passthrough&#x27;,\n",
       "                                                          transformers=[(&#x27;ohe&#x27;,\n",
       "                                                                         OneHotEncoder(drop=&#x27;first&#x27;,\n",
       "                                                                                       sparse=False),\n",
       "                                                                         [&#x27;Gender&#x27;,\n",
       "                                                                          &#x27;Vehicle_Age&#x27;,\n",
       "                                                                          &#x27;Vehicle_Damage&#x27;])])),\n",
       "                                       (&#x27;lgbm&#x27;, LGBMClassifier())]),\n",
       "             param_grid={&#x27;lgbm__learning_rate&#x27;: [0.1, 0.01, 0.001],\n",
       "                         &#x27;lgbm__max_depth&#x27;: [2, 3, 5, 100],\n",
       "                         &#x27;lgbm__n_estimators&#x27;: [100, 500, 1000, 2000]})</pre></div></div></div><div class=\"sk-parallel\"><div class=\"sk-parallel-item\"><div class=\"sk-item\"><div class=\"sk-label-container\"><div class=\"sk-label sk-toggleable\"><input class=\"sk-toggleable__control sk-hidden--visually\" id=\"sk-estimator-id-56\" type=\"checkbox\" ><label for=\"sk-estimator-id-56\" class=\"sk-toggleable__label sk-toggleable__label-arrow\">estimator: Pipeline</label><div class=\"sk-toggleable__content\"><pre>Pipeline(steps=[(&#x27;ct&#x27;,\n",
       "                 ColumnTransformer(remainder=&#x27;passthrough&#x27;,\n",
       "                                   transformers=[(&#x27;ohe&#x27;,\n",
       "                                                  OneHotEncoder(drop=&#x27;first&#x27;,\n",
       "                                                                sparse=False),\n",
       "                                                  [&#x27;Gender&#x27;, &#x27;Vehicle_Age&#x27;,\n",
       "                                                   &#x27;Vehicle_Damage&#x27;])])),\n",
       "                (&#x27;lgbm&#x27;, LGBMClassifier())])</pre></div></div></div><div class=\"sk-serial\"><div class=\"sk-item\"><div class=\"sk-serial\"><div class=\"sk-item sk-dashed-wrapped\"><div class=\"sk-label-container\"><div class=\"sk-label sk-toggleable\"><input class=\"sk-toggleable__control sk-hidden--visually\" id=\"sk-estimator-id-57\" type=\"checkbox\" ><label for=\"sk-estimator-id-57\" class=\"sk-toggleable__label sk-toggleable__label-arrow\">ct: ColumnTransformer</label><div class=\"sk-toggleable__content\"><pre>ColumnTransformer(remainder=&#x27;passthrough&#x27;,\n",
       "                  transformers=[(&#x27;ohe&#x27;,\n",
       "                                 OneHotEncoder(drop=&#x27;first&#x27;, sparse=False),\n",
       "                                 [&#x27;Gender&#x27;, &#x27;Vehicle_Age&#x27;, &#x27;Vehicle_Damage&#x27;])])</pre></div></div></div><div class=\"sk-parallel\"><div class=\"sk-parallel-item\"><div class=\"sk-item\"><div class=\"sk-label-container\"><div class=\"sk-label sk-toggleable\"><input class=\"sk-toggleable__control sk-hidden--visually\" id=\"sk-estimator-id-58\" type=\"checkbox\" ><label for=\"sk-estimator-id-58\" class=\"sk-toggleable__label sk-toggleable__label-arrow\">ohe</label><div class=\"sk-toggleable__content\"><pre>[&#x27;Gender&#x27;, &#x27;Vehicle_Age&#x27;, &#x27;Vehicle_Damage&#x27;]</pre></div></div></div><div class=\"sk-serial\"><div class=\"sk-item\"><div class=\"sk-estimator sk-toggleable\"><input class=\"sk-toggleable__control sk-hidden--visually\" id=\"sk-estimator-id-59\" type=\"checkbox\" ><label for=\"sk-estimator-id-59\" class=\"sk-toggleable__label sk-toggleable__label-arrow\">OneHotEncoder</label><div class=\"sk-toggleable__content\"><pre>OneHotEncoder(drop=&#x27;first&#x27;, sparse=False)</pre></div></div></div></div></div></div><div class=\"sk-parallel-item\"><div class=\"sk-item\"><div class=\"sk-label-container\"><div class=\"sk-label sk-toggleable\"><input class=\"sk-toggleable__control sk-hidden--visually\" id=\"sk-estimator-id-60\" type=\"checkbox\" ><label for=\"sk-estimator-id-60\" class=\"sk-toggleable__label sk-toggleable__label-arrow\">remainder</label><div class=\"sk-toggleable__content\"><pre></pre></div></div></div><div class=\"sk-serial\"><div class=\"sk-item\"><div class=\"sk-estimator sk-toggleable\"><input class=\"sk-toggleable__control sk-hidden--visually\" id=\"sk-estimator-id-61\" type=\"checkbox\" ><label for=\"sk-estimator-id-61\" class=\"sk-toggleable__label sk-toggleable__label-arrow\">passthrough</label><div class=\"sk-toggleable__content\"><pre>passthrough</pre></div></div></div></div></div></div></div></div><div class=\"sk-item\"><div class=\"sk-estimator sk-toggleable\"><input class=\"sk-toggleable__control sk-hidden--visually\" id=\"sk-estimator-id-62\" type=\"checkbox\" ><label for=\"sk-estimator-id-62\" class=\"sk-toggleable__label sk-toggleable__label-arrow\">LGBMClassifier</label><div class=\"sk-toggleable__content\"><pre>LGBMClassifier()</pre></div></div></div></div></div></div></div></div></div></div></div></div>"
      ],
      "text/plain": [
       "GridSearchCV(estimator=Pipeline(steps=[('ct',\n",
       "                                        ColumnTransformer(remainder='passthrough',\n",
       "                                                          transformers=[('ohe',\n",
       "                                                                         OneHotEncoder(drop='first',\n",
       "                                                                                       sparse=False),\n",
       "                                                                         ['Gender',\n",
       "                                                                          'Vehicle_Age',\n",
       "                                                                          'Vehicle_Damage'])])),\n",
       "                                       ('lgbm', LGBMClassifier())]),\n",
       "             param_grid={'lgbm__learning_rate': [0.1, 0.01, 0.001],\n",
       "                         'lgbm__max_depth': [2, 3, 5, 100],\n",
       "                         'lgbm__n_estimators': [100, 500, 1000, 2000]})"
      ]
     },
     "execution_count": 241,
     "metadata": {},
     "output_type": "execute_result"
    }
   ],
   "source": [
    "from lightgbm import LGBMClassifier\n",
    "from sklearn.model_selection import GridSearchCV\n",
    "\n",
    "X = data.drop(columns=['Response'])\n",
    "y = data['Response']\n",
    "\n",
    "X_train, X_test, y_train, y_test = train_test_split(X, y,\n",
    "                                                    random_state=0,\n",
    "                                                    shuffle=True,\n",
    "                                                    test_size=0.2)\n",
    "\n",
    "params = {'lgbm__n_estimators': [100, 500, 1000, 2000],\n",
    "          'lgbm__max_depth': [2, 3, 5, 100],\n",
    "          'lgbm__learning_rate': [0.1, 0.01, 0.001]}\n",
    "\n",
    "ct = ColumnTransformer([\n",
    "    ('ohe', OneHotEncoder(drop='first', sparse=False), list(X_train.select_dtypes('object').columns)),\n",
    "], remainder = 'passthrough')\n",
    "\n",
    "### Your code is here\n",
    "pipe = Pipeline([\n",
    "    ('ct', ct),\n",
    "    ('lgbm', LGBMClassifier())\n",
    "])\n",
    "\n",
    "grid = GridSearchCV(pipe, params)\n",
    "grid.fit(X_train, y_train)"
   ]
  },
  {
   "cell_type": "code",
   "execution_count": 242,
   "id": "0e5898ef-d99d-4d9e-91a9-c4c227c481df",
   "metadata": {},
   "outputs": [
    {
     "name": "stdout",
     "output_type": "stream",
     "text": [
      "              precision    recall  f1-score   support\n",
      "\n",
      "           0       0.89      1.00      0.94      1770\n",
      "           1       0.00      0.00      0.00       230\n",
      "\n",
      "    accuracy                           0.89      2000\n",
      "   macro avg       0.44      0.50      0.47      2000\n",
      "weighted avg       0.78      0.89      0.83      2000\n",
      "\n"
     ]
    }
   ],
   "source": [
    "print(classification_report(y_test, grid.predict(X_test), digits=2))"
   ]
  },
  {
   "cell_type": "code",
   "execution_count": 240,
   "id": "51155b68-858f-4c59-a7ed-7b0696486638",
   "metadata": {},
   "outputs": [
    {
     "data": {
      "text/plain": [
       "['Gender', 'Vehicle_Age', 'Vehicle_Damage']"
      ]
     },
     "execution_count": 240,
     "metadata": {},
     "output_type": "execute_result"
    }
   ],
   "source": [
    "list(X_train.select_dtypes('object').columns)"
   ]
  },
  {
   "cell_type": "code",
   "execution_count": null,
   "id": "76d8995d-402c-42c6-bd89-c4ce420f78db",
   "metadata": {},
   "outputs": [],
   "source": []
  }
 ],
 "metadata": {
  "kernelspec": {
   "display_name": "Python 3 (ipykernel)",
   "language": "python",
   "name": "python3"
  },
  "language_info": {
   "codemirror_mode": {
    "name": "ipython",
    "version": 3
   },
   "file_extension": ".py",
   "mimetype": "text/x-python",
   "name": "python",
   "nbconvert_exporter": "python",
   "pygments_lexer": "ipython3",
   "version": "3.8.10"
  }
 },
 "nbformat": 4,
 "nbformat_minor": 5
}
