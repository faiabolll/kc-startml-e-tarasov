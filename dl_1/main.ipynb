{
 "cells": [
  {
   "cell_type": "code",
   "execution_count": 19,
   "metadata": {},
   "outputs": [],
   "source": [
    "import torch\n",
    "import numpy as np"
   ]
  },
  {
   "cell_type": "code",
   "execution_count": 21,
   "metadata": {},
   "outputs": [
    {
     "data": {
      "text/plain": [
       "array([[0.11765422, 0.20154918],\n",
       "       [0.15164076, 0.47862586],\n",
       "       [0.58398265, 0.92327006],\n",
       "       [0.42489727, 0.59051729]])"
      ]
     },
     "execution_count": 21,
     "metadata": {},
     "output_type": "execute_result"
    }
   ],
   "source": [
    "np.random.rand(4,2)"
   ]
  },
  {
   "cell_type": "code",
   "execution_count": 16,
   "metadata": {},
   "outputs": [],
   "source": [
    "def function01(tensor: torch.Tensor, count_over: str) -> torch.Tensor:\n",
    "    if count_over == 'columns':\n",
    "        return torch.mean(tensor, dim=0)\n",
    "    if count_over == 'rows':\n",
    "        return torch.mean(tensor, dim=1)\n",
    "    raise ValueError(\"count_over sholud be either 'columns' or 'rows'\")"
   ]
  },
  {
   "cell_type": "code",
   "execution_count": 13,
   "metadata": {},
   "outputs": [],
   "source": [
    "a = torch.tensor([[1,2,3],[4,5,6]], dtype=torch.float16)"
   ]
  },
  {
   "cell_type": "code",
   "execution_count": 18,
   "metadata": {},
   "outputs": [
    {
     "data": {
      "text/plain": [
       "tensor([2., 5.], dtype=torch.float16)"
      ]
     },
     "execution_count": 18,
     "metadata": {},
     "output_type": "execute_result"
    }
   ],
   "source": [
    "function01(a, 'rows')"
   ]
  },
  {
   "cell_type": "code",
   "execution_count": 9,
   "metadata": {},
   "outputs": [
    {
     "name": "stdout",
     "output_type": "stream",
     "text": [
      "\u001b[1;31mType:\u001b[0m        dtype\n",
      "\u001b[1;31mString form:\u001b[0m torch.int64\n",
      "\u001b[1;31mFile:\u001b[0m        c:\\users\\krot\\anaconda3\\envs\\kc_ml\\lib\\site-packages\\torch\\__init__.py\n",
      "\u001b[1;31mDocstring:\u001b[0m   <no docstring>"
     ]
    }
   ],
   "source": [
    "a.dtype?"
   ]
  },
  {
   "cell_type": "code",
   "execution_count": 26,
   "metadata": {},
   "outputs": [],
   "source": [
    "import torch \n",
    "\n",
    "def function02(ds: torch.Tensor) -> torch.Tensor:\n",
    "    return torch.rand(ds.shape[1], requires_grad=True)"
   ]
  },
  {
   "cell_type": "code",
   "execution_count": 35,
   "metadata": {},
   "outputs": [
    {
     "data": {
      "text/plain": [
       "tensor([[0.0084, 0.2621, 0.0047]], grad_fn=<PowBackward0>)"
      ]
     },
     "execution_count": 35,
     "metadata": {},
     "output_type": "execute_result"
    }
   ],
   "source": [
    "(function02(a).unsqueeze(0) - function02(a).unsqueeze(0))**2"
   ]
  },
  {
   "cell_type": "code",
   "execution_count": 46,
   "metadata": {},
   "outputs": [],
   "source": [
    "import torch\n",
    "\n",
    "def function03(X: torch.Tensor, y: torch.Tensor) -> torch.Tensor:\n",
    "    w = torch.rand(X.shape[1], requires_grad=True)\n",
    "\n",
    "    for i in range(1000):\n",
    "        pred = X @ w\n",
    "        loss = torch.mean((y - pred) ** 2)\n",
    "\n",
    "        if loss < 1:\n",
    "            break\n",
    "        else:\n",
    "            loss.backward()\n",
    "            with torch.no_grad():\n",
    "                w -= w.grad * 1e-2\n",
    "            w.grad.zero_()\n",
    "\n",
    "    return w\n"
   ]
  },
  {
   "cell_type": "code",
   "execution_count": 47,
   "metadata": {},
   "outputs": [],
   "source": [
    "n_features = 2         # Размерность указана для примера, не нужно использовать её в коде\n",
    "n_objects = 300\n",
    "\n",
    "w_true = torch.randn(n_features)\n",
    "X = (torch.rand(n_objects, n_features) - 0.5) * 5\n",
    "Y = X @ w_true + torch.randn(n_objects) / 2"
   ]
  },
  {
   "cell_type": "code",
   "execution_count": 110,
   "metadata": {},
   "outputs": [
    {
     "ename": "AttributeError",
     "evalue": "'NoneType' object has no attribute 'zero_'",
     "output_type": "error",
     "traceback": [
      "\u001b[1;31m---------------------------------------------------------------------------\u001b[0m",
      "\u001b[1;31mAttributeError\u001b[0m                            Traceback (most recent call last)",
      "Cell \u001b[1;32mIn[110], line 15\u001b[0m\n\u001b[0;32m     13\u001b[0m     w \u001b[38;5;241m=\u001b[39m w \u001b[38;5;241m-\u001b[39m w\u001b[38;5;241m.\u001b[39mgrad \u001b[38;5;241m*\u001b[39m \u001b[38;5;241m1e-2\u001b[39m\n\u001b[0;32m     14\u001b[0m w\u001b[38;5;241m.\u001b[39mrequires_grad \u001b[38;5;241m=\u001b[39m \u001b[38;5;28;01mTrue\u001b[39;00m\n\u001b[1;32m---> 15\u001b[0m \u001b[43mw\u001b[49m\u001b[38;5;241;43m.\u001b[39;49m\u001b[43mgrad\u001b[49m\u001b[38;5;241;43m.\u001b[39;49m\u001b[43mzero_\u001b[49m()\n",
      "\u001b[1;31mAttributeError\u001b[0m: 'NoneType' object has no attribute 'zero_'"
     ]
    }
   ],
   "source": [
    "from tqdm import tqdm\n",
    "w = torch.rand(X.shape[1], requires_grad=True)\n",
    "\n",
    "for i in range(1000):\n",
    "    pred = X @ w\n",
    "    loss = torch.mean((Y - pred) ** 2)\n",
    "\n",
    "    if loss < 1:\n",
    "        break\n",
    "    else:\n",
    "        loss.backward()\n",
    "        with torch.no_grad():\n",
    "            w = w - w.grad * 1e-2\n",
    "        w.requires_grad = True\n",
    "        w.grad.zero_()"
   ]
  },
  {
   "cell_type": "code",
   "execution_count": 120,
   "metadata": {},
   "outputs": [],
   "source": [
    "import torch\n",
    "\n",
    "def function04(X: torch.Tensor, y: torch.Tensor) -> torch.Tensor:\n",
    "    layer = torch.nn.Linear(in_features=X.shape[1], out_features=1)\n",
    "\n",
    "    for i in range(1000):\n",
    "        pred = layer(X).ravel()\n",
    "        loss = torch.mean((y - pred) ** 2)\n",
    "\n",
    "        if loss < 0.3:\n",
    "            break\n",
    "        else:\n",
    "            loss.backward()\n",
    "            with torch.no_grad():\n",
    "                layer.weight -= layer.weight.grad * 1e-2\n",
    "                layer.bias -= layer.bias.grad * 1e-2\n",
    "            layer.zero_grad()\n",
    "\n",
    "    return layer\n"
   ]
  },
  {
   "cell_type": "code",
   "execution_count": 121,
   "metadata": {},
   "outputs": [
    {
     "name": "stderr",
     "output_type": "stream",
     "text": [
      "  6%|▌         | 55/1000 [00:00<00:00, 2296.88it/s]\n"
     ]
    },
    {
     "data": {
      "text/plain": [
       "Linear(in_features=2, out_features=1, bias=True)"
      ]
     },
     "execution_count": 121,
     "metadata": {},
     "output_type": "execute_result"
    }
   ],
   "source": [
    "function04(X, Y)"
   ]
  },
  {
   "cell_type": "code",
   "execution_count": null,
   "metadata": {},
   "outputs": [],
   "source": []
  }
 ],
 "metadata": {
  "kernelspec": {
   "display_name": "kc_ml",
   "language": "python",
   "name": "python3"
  },
  "language_info": {
   "codemirror_mode": {
    "name": "ipython",
    "version": 3
   },
   "file_extension": ".py",
   "mimetype": "text/x-python",
   "name": "python",
   "nbconvert_exporter": "python",
   "pygments_lexer": "ipython3",
   "version": "3.12.0"
  }
 },
 "nbformat": 4,
 "nbformat_minor": 2
}
